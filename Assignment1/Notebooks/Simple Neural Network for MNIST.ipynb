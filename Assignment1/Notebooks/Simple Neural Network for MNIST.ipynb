{
 "cells": [
  {
   "cell_type": "code",
   "execution_count": 54,
   "metadata": {},
   "outputs": [],
   "source": [
    "#Importing the Necessary packages\n",
    "import numpy as np\n",
    "from keras import Sequential\n",
    "from keras.layers import Dense\n",
    "from keras import Model\n",
    "from keras.utils import to_categorical\n",
    "from keras.layers import Activation\n",
    "import matplotlib.pyplot as plt\n",
    "from keras.callbacks import ReduceLROnPlateau,CSVLogger, EarlyStopping, ModelCheckpoint\n",
    "import pandas as pd\n",
    "%matplotlib inline\n",
    "import pylab\n",
    "from keras import optimizers"
   ]
  },
  {
   "cell_type": "code",
   "execution_count": 9,
   "metadata": {},
   "outputs": [],
   "source": [
    "#Downloading the dataset\n",
    "from keras.datasets import mnist\n",
    "(x_train, y_train), (x_test, y_test) = mnist.load_data()"
   ]
  },
  {
   "cell_type": "code",
   "execution_count": 10,
   "metadata": {},
   "outputs": [],
   "source": [
    "#Saving the dataset in local system\n",
    "np.save(\"x_train_out.npy\",x_train)\n",
    "np.save(\"y_train_out.npy\",y_train)\n",
    "np.save(\"x_test_out.npy\",x_test)\n",
    "np.save(\"y_test_out.npy\",y_test)"
   ]
  },
  {
   "cell_type": "code",
   "execution_count": 11,
   "metadata": {},
   "outputs": [],
   "source": [
    "#Loading the dataset.\n",
    "x_train = np.load('x_train_out.npy')\n",
    "y_train = np.load('y_train_out.npy')\n",
    "x_test = np.load('x_test_out.npy')\n",
    "y_test = np.load('y_test_out.npy')"
   ]
  },
  {
   "cell_type": "code",
   "execution_count": 12,
   "metadata": {},
   "outputs": [
    {
     "data": {
      "text/plain": [
       "(60000, 28, 28)"
      ]
     },
     "execution_count": 12,
     "metadata": {},
     "output_type": "execute_result"
    }
   ],
   "source": [
    "x_train.shape"
   ]
  },
  {
   "cell_type": "code",
   "execution_count": 13,
   "metadata": {},
   "outputs": [
    {
     "data": {
      "text/plain": [
       "(10000, 28, 28)"
      ]
     },
     "execution_count": 13,
     "metadata": {},
     "output_type": "execute_result"
    }
   ],
   "source": [
    "x_test.shape"
   ]
  },
  {
   "cell_type": "code",
   "execution_count": 14,
   "metadata": {},
   "outputs": [],
   "source": [
    "#Defining number of pixels and Number of classes \n",
    "NUM_PIXELS = x_train.shape[1] * x_train.shape[2]\n",
    "NUM_CLASSES = 10"
   ]
  },
  {
   "cell_type": "code",
   "execution_count": 15,
   "metadata": {},
   "outputs": [],
   "source": [
    "#Converting the data into a form of 1D vector.\n",
    "x_train = x_train.reshape(x_train.shape[0], NUM_PIXELS).astype('float32')\n",
    "x_test = x_test.reshape(x_test.shape[0], NUM_PIXELS).astype('float32')"
   ]
  },
  {
   "cell_type": "code",
   "execution_count": 16,
   "metadata": {},
   "outputs": [],
   "source": [
    "#Normalising Data based on the mean and the standard deviation of the training data.\n",
    "mean = np.mean(x_train)\n",
    "std = np.std(x_train)\n",
    "x_train_normalised = (x_train-mean)/(std+1e-7)\n",
    "x_test_normalised = (x_test-mean)/(std+1e-7)"
   ]
  },
  {
   "cell_type": "code",
   "execution_count": 17,
   "metadata": {},
   "outputs": [],
   "source": [
    "training_count = (int)(0.8 * x_train.shape[0])"
   ]
  },
  {
   "cell_type": "code",
   "execution_count": 18,
   "metadata": {},
   "outputs": [
    {
     "data": {
      "text/plain": [
       "48000"
      ]
     },
     "execution_count": 18,
     "metadata": {},
     "output_type": "execute_result"
    }
   ],
   "source": [
    "training_count"
   ]
  },
  {
   "cell_type": "code",
   "execution_count": 19,
   "metadata": {},
   "outputs": [],
   "source": [
    "#Splitting the training data into normal training data and validation (Normalised Data)\n",
    "x_validation_normalised = x_train_normalised[training_count:]\n",
    "y_validation = y_train[training_count:]\n",
    "x_train_normalised = x_train_normalised[0:training_count]\n",
    "y_train = y_train[0:training_count]"
   ]
  },
  {
   "cell_type": "code",
   "execution_count": 20,
   "metadata": {},
   "outputs": [
    {
     "data": {
      "text/plain": [
       "(12000, 784)"
      ]
     },
     "execution_count": 20,
     "metadata": {},
     "output_type": "execute_result"
    }
   ],
   "source": [
    "x_validation_normalised.shape"
   ]
  },
  {
   "cell_type": "code",
   "execution_count": 21,
   "metadata": {},
   "outputs": [
    {
     "data": {
      "text/plain": [
       "(48000, 784)"
      ]
     },
     "execution_count": 21,
     "metadata": {},
     "output_type": "execute_result"
    }
   ],
   "source": [
    "x_train_normalised.shape"
   ]
  },
  {
   "cell_type": "code",
   "execution_count": 22,
   "metadata": {},
   "outputs": [],
   "source": [
    "#Splitting the training data into normal training data and validation (Not Normalised Data)\n",
    "x_validation = x_train[training_count:]\n",
    "x_train = x_train[0:training_count]"
   ]
  },
  {
   "cell_type": "code",
   "execution_count": 23,
   "metadata": {},
   "outputs": [
    {
     "data": {
      "text/plain": [
       "(12000, 784)"
      ]
     },
     "execution_count": 23,
     "metadata": {},
     "output_type": "execute_result"
    }
   ],
   "source": [
    "x_validation.shape"
   ]
  },
  {
   "cell_type": "code",
   "execution_count": 24,
   "metadata": {},
   "outputs": [
    {
     "data": {
      "text/plain": [
       "(48000, 784)"
      ]
     },
     "execution_count": 24,
     "metadata": {},
     "output_type": "execute_result"
    }
   ],
   "source": [
    "x_train.shape"
   ]
  },
  {
   "cell_type": "code",
   "execution_count": 25,
   "metadata": {},
   "outputs": [],
   "source": [
    "#One hot encoding the labels\n",
    "y_train = to_categorical(y_train, 10)\n",
    "y_validation = to_categorical(y_validation,10)\n",
    "y_test = to_categorical(y_test, 10)"
   ]
  },
  {
   "cell_type": "code",
   "execution_count": 26,
   "metadata": {},
   "outputs": [
    {
     "data": {
      "text/plain": [
       "(48000, 10)"
      ]
     },
     "execution_count": 26,
     "metadata": {},
     "output_type": "execute_result"
    }
   ],
   "source": [
    "y_train.shape"
   ]
  },
  {
   "cell_type": "code",
   "execution_count": 27,
   "metadata": {},
   "outputs": [
    {
     "data": {
      "text/plain": [
       "(12000, 10)"
      ]
     },
     "execution_count": 27,
     "metadata": {},
     "output_type": "execute_result"
    }
   ],
   "source": [
    "y_validation.shape"
   ]
  },
  {
   "cell_type": "code",
   "execution_count": 28,
   "metadata": {},
   "outputs": [
    {
     "data": {
      "text/plain": [
       "(10000, 10)"
      ]
     },
     "execution_count": 28,
     "metadata": {},
     "output_type": "execute_result"
    }
   ],
   "source": [
    "y_test.shape"
   ]
  },
  {
   "cell_type": "code",
   "execution_count": 29,
   "metadata": {},
   "outputs": [],
   "source": [
    "#Setting seeds of both Numpy and tensorflow to reproduce the results\n",
    "from numpy.random import seed\n",
    "seed(6)\n",
    "from tensorflow import set_random_seed\n",
    "set_random_seed(6)"
   ]
  },
  {
   "cell_type": "code",
   "execution_count": 30,
   "metadata": {},
   "outputs": [],
   "source": [
    "#Model construction\n",
    "\"\"\"\n",
    "Input Parameters\n",
    "------------------\n",
    "\n",
    "number of layers : Number of hidden Layers\n",
    "no_of_hidden_neurons : List Containing number of neurons in each hidden layer\n",
    "activation_function : Which activation function to be used in each layer\n",
    "\n",
    "Output\n",
    "--------\n",
    "An instance of the model\n",
    "\n",
    "\"\"\"\n",
    "def model_constructor(number_of_layers, no_of_hidden_neurons, activation_function) :\n",
    "    model = Sequential()\n",
    "    model.add(Dense(no_of_hidden_neurons[0], input_dim = NUM_PIXELS, activation = activation_function))\n",
    "    for i in range(1,number_of_layers) :\n",
    "        model.add(Dense(no_of_hidden_neurons[i], activation = activation_function))\n",
    "    model.add(Dense(NUM_CLASSES, activation='softmax'))\n",
    "    return model"
   ]
  },
  {
   "cell_type": "code",
   "execution_count": 31,
   "metadata": {},
   "outputs": [],
   "source": [
    "normalised_model = model_constructor(1,[784],\"relu\")"
   ]
  },
  {
   "cell_type": "code",
   "execution_count": 32,
   "metadata": {},
   "outputs": [
    {
     "name": "stdout",
     "output_type": "stream",
     "text": [
      "_________________________________________________________________\n",
      "Layer (type)                 Output Shape              Param #   \n",
      "=================================================================\n",
      "dense_1 (Dense)              (None, 784)               615440    \n",
      "_________________________________________________________________\n",
      "dense_2 (Dense)              (None, 10)                7850      \n",
      "=================================================================\n",
      "Total params: 623,290\n",
      "Trainable params: 623,290\n",
      "Non-trainable params: 0\n",
      "_________________________________________________________________\n"
     ]
    }
   ],
   "source": [
    "normalised_model.summary()"
   ]
  },
  {
   "cell_type": "code",
   "execution_count": 33,
   "metadata": {},
   "outputs": [
    {
     "name": "stdout",
     "output_type": "stream",
     "text": [
      "_________________________________________________________________\n",
      "Layer (type)                 Output Shape              Param #   \n",
      "=================================================================\n",
      "dense_3 (Dense)              (None, 784)               615440    \n",
      "_________________________________________________________________\n",
      "dense_4 (Dense)              (None, 10)                7850      \n",
      "=================================================================\n",
      "Total params: 623,290\n",
      "Trainable params: 623,290\n",
      "Non-trainable params: 0\n",
      "_________________________________________________________________\n"
     ]
    }
   ],
   "source": [
    "model =  model_constructor(1,[784],\"relu\")\n",
    "model.summary()"
   ]
  },
  {
   "cell_type": "code",
   "execution_count": 34,
   "metadata": {},
   "outputs": [],
   "source": [
    "normalised_model.compile(optimizer='Adam', loss = 'categorical_crossentropy', metrics = ['accuracy'])\n",
    "model.compile(optimizer='Adam', loss = 'categorical_crossentropy', metrics = ['accuracy'])"
   ]
  },
  {
   "cell_type": "code",
   "execution_count": 35,
   "metadata": {},
   "outputs": [],
   "source": [
    "csv_logger = CSVLogger('MNIST_normalised_model.csv')\n",
    "model_checkpoint = ModelCheckpoint('MNIST_model_normalised.hdf5', monitor = 'val_loss', verbose = 1, save_best_only = True)\n",
    "csv_logger1 = CSVLogger('MNIST_model.csv')\n",
    "model_checkpoint1 = ModelCheckpoint('MNIST_model.hdf5', monitor = 'val_loss', verbose = 1, save_best_only = True)"
   ]
  },
  {
   "cell_type": "code",
   "execution_count": 50,
   "metadata": {},
   "outputs": [
    {
     "name": "stdout",
     "output_type": "stream",
     "text": [
      "Train on 48000 samples, validate on 12000 samples\n",
      "Epoch 1/10\n",
      "47968/48000 [============================>.] - ETA: 0s - loss: 0.0175 - acc: 0.9948Epoch 00001: val_loss did not improve\n",
      "48000/48000 [==============================] - 28s 594us/step - loss: 0.0175 - acc: 0.9948 - val_loss: 0.1343 - val_acc: 0.9772\n",
      "Epoch 2/10\n",
      "47936/48000 [============================>.] - ETA: 0s - loss: 0.0226 - acc: 0.9934Epoch 00002: val_loss did not improve\n",
      "48000/48000 [==============================] - 29s 595us/step - loss: 0.0226 - acc: 0.9934 - val_loss: 0.1642 - val_acc: 0.9743\n",
      "Epoch 3/10\n",
      "47936/48000 [============================>.] - ETA: 0s - loss: 0.0159 - acc: 0.9957Epoch 00003: val_loss did not improve\n",
      "48000/48000 [==============================] - 28s 591us/step - loss: 0.0159 - acc: 0.9957 - val_loss: 0.1921 - val_acc: 0.9706\n",
      "Epoch 4/10\n",
      "47936/48000 [============================>.] - ETA: 0s - loss: 0.0195 - acc: 0.9945Epoch 00004: val_loss did not improve\n",
      "48000/48000 [==============================] - 28s 593us/step - loss: 0.0195 - acc: 0.9945 - val_loss: 0.1478 - val_acc: 0.9776\n",
      "Epoch 5/10\n",
      "47968/48000 [============================>.] - ETA: 0s - loss: 0.0165 - acc: 0.9956Epoch 00005: val_loss did not improve\n",
      "48000/48000 [==============================] - 29s 599us/step - loss: 0.0165 - acc: 0.9956 - val_loss: 0.1785 - val_acc: 0.9743\n",
      "Epoch 6/10\n",
      "47904/48000 [============================>.] - ETA: 0s - loss: 0.0177 - acc: 0.9956Epoch 00006: val_loss did not improve\n",
      "48000/48000 [==============================] - 29s 600us/step - loss: 0.0177 - acc: 0.9956 - val_loss: 0.1735 - val_acc: 0.9749\n",
      "Epoch 7/10\n",
      "47968/48000 [============================>.] - ETA: 0s - loss: 0.0176 - acc: 0.9952Epoch 00007: val_loss did not improve\n",
      "48000/48000 [==============================] - 29s 596us/step - loss: 0.0176 - acc: 0.9952 - val_loss: 0.1664 - val_acc: 0.9778\n",
      "Epoch 8/10\n",
      "47936/48000 [============================>.] - ETA: 0s - loss: 0.0150 - acc: 0.9957Epoch 00008: val_loss did not improve\n",
      "48000/48000 [==============================] - 29s 606us/step - loss: 0.0150 - acc: 0.9957 - val_loss: 0.2000 - val_acc: 0.9731\n",
      "Epoch 9/10\n",
      "47936/48000 [============================>.] - ETA: 0s - loss: 0.0196 - acc: 0.9952Epoch 00009: val_loss did not improve\n",
      "48000/48000 [==============================] - 29s 602us/step - loss: 0.0195 - acc: 0.9952 - val_loss: 0.1703 - val_acc: 0.9767\n",
      "Epoch 10/10\n",
      "47904/48000 [============================>.] - ETA: 0s - loss: 0.0111 - acc: 0.9966Epoch 00010: val_loss did not improve\n",
      "48000/48000 [==============================] - 29s 595us/step - loss: 0.0111 - acc: 0.9966 - val_loss: 0.1830 - val_acc: 0.9748\n"
     ]
    }
   ],
   "source": [
    "history = normalised_model.fit(x_train_normalised, y_train, batch_size = 32, epochs = 10, \n",
    "                    validation_data=(x_validation_normalised, y_validation), callbacks = [csv_logger, model_checkpoint])"
   ]
  },
  {
   "cell_type": "code",
   "execution_count": 38,
   "metadata": {},
   "outputs": [
    {
     "name": "stdout",
     "output_type": "stream",
     "text": [
      "Train on 48000 samples, validate on 12000 samples\n",
      "Epoch 1/10\n",
      "47936/48000 [============================>.] - ETA: 0s - loss: 14.6609 - acc: 0.0903Epoch 00001: val_loss improved from inf to 14.64463, saving model to MNIST_model.hdf5\n",
      "48000/48000 [==============================] - 29s 596us/step - loss: 14.6609 - acc: 0.0903 - val_loss: 14.6446 - val_acc: 0.0914\n",
      "Epoch 2/10\n",
      "47968/48000 [============================>.] - ETA: 0s - loss: 14.6652 - acc: 0.0901Epoch 00002: val_loss did not improve\n",
      "48000/48000 [==============================] - 29s 607us/step - loss: 14.6661 - acc: 0.0901 - val_loss: 14.6446 - val_acc: 0.0914\n",
      "Epoch 3/10\n",
      "47904/48000 [============================>.] - ETA: 0s - loss: 14.6666 - acc: 0.0901Epoch 00003: val_loss did not improve\n",
      "48000/48000 [==============================] - 29s 610us/step - loss: 14.6661 - acc: 0.0901 - val_loss: 14.6446 - val_acc: 0.0914\n",
      "Epoch 4/10\n",
      "47936/48000 [============================>.] - ETA: 0s - loss: 14.6665 - acc: 0.0901Epoch 00004: val_loss did not improve\n",
      "48000/48000 [==============================] - 29s 614us/step - loss: 14.6661 - acc: 0.0901 - val_loss: 14.6446 - val_acc: 0.0914\n",
      "Epoch 5/10\n",
      "47936/48000 [============================>.] - ETA: 0s - loss: 14.6652 - acc: 0.0901Epoch 00005: val_loss did not improve\n",
      "48000/48000 [==============================] - 30s 616us/step - loss: 14.6661 - acc: 0.0901 - val_loss: 14.6446 - val_acc: 0.0914\n",
      "Epoch 6/10\n",
      "47968/48000 [============================>.] - ETA: 0s - loss: 14.6655 - acc: 0.0901Epoch 00006: val_loss did not improve\n",
      "48000/48000 [==============================] - 29s 610us/step - loss: 14.6661 - acc: 0.0901 - val_loss: 14.6446 - val_acc: 0.0914\n",
      "Epoch 7/10\n",
      "47936/48000 [============================>.] - ETA: 0s - loss: 14.6665 - acc: 0.0901Epoch 00007: val_loss did not improve\n",
      "48000/48000 [==============================] - 29s 610us/step - loss: 14.6661 - acc: 0.0901 - val_loss: 14.6446 - val_acc: 0.0914\n",
      "Epoch 8/10\n",
      "47904/48000 [============================>.] - ETA: 0s - loss: 14.6659 - acc: 0.0901Epoch 00008: val_loss did not improve\n",
      "48000/48000 [==============================] - 29s 608us/step - loss: 14.6661 - acc: 0.0901 - val_loss: 14.6446 - val_acc: 0.0914\n",
      "Epoch 9/10\n",
      "47904/48000 [============================>.] - ETA: 0s - loss: 14.6646 - acc: 0.0902Epoch 00009: val_loss did not improve\n",
      "48000/48000 [==============================] - 27s 573us/step - loss: 14.6661 - acc: 0.0901 - val_loss: 14.6446 - val_acc: 0.0914\n",
      "Epoch 10/10\n",
      "47904/48000 [============================>.] - ETA: 0s - loss: 14.6656 - acc: 0.0901Epoch 00010: val_loss did not improve\n",
      "48000/48000 [==============================] - 30s 619us/step - loss: 14.6661 - acc: 0.0901 - val_loss: 14.6446 - val_acc: 0.0914\n"
     ]
    }
   ],
   "source": [
    "history1 = model.fit(x_train, y_train, batch_size = 32, epochs = 10, \n",
    "                    validation_data=(x_validation, y_validation), callbacks = [csv_logger1, model_checkpoint1])"
   ]
  },
  {
   "cell_type": "code",
   "execution_count": 51,
   "metadata": {},
   "outputs": [],
   "source": [
    "normalised = pd.read_csv(\"MNIST_normalised_model.csv\")"
   ]
  },
  {
   "cell_type": "code",
   "execution_count": 40,
   "metadata": {},
   "outputs": [],
   "source": [
    "normal = pd.read_csv('MNIST_model.csv')"
   ]
  },
  {
   "cell_type": "code",
   "execution_count": 52,
   "metadata": {},
   "outputs": [
    {
     "data": {
      "text/html": [
       "<div>\n",
       "<style scoped>\n",
       "    .dataframe tbody tr th:only-of-type {\n",
       "        vertical-align: middle;\n",
       "    }\n",
       "\n",
       "    .dataframe tbody tr th {\n",
       "        vertical-align: top;\n",
       "    }\n",
       "\n",
       "    .dataframe thead th {\n",
       "        text-align: right;\n",
       "    }\n",
       "</style>\n",
       "<table border=\"1\" class=\"dataframe\">\n",
       "  <thead>\n",
       "    <tr style=\"text-align: right;\">\n",
       "      <th></th>\n",
       "      <th>epoch</th>\n",
       "      <th>acc</th>\n",
       "      <th>loss</th>\n",
       "      <th>val_acc</th>\n",
       "      <th>val_loss</th>\n",
       "    </tr>\n",
       "  </thead>\n",
       "  <tbody>\n",
       "    <tr>\n",
       "      <th>0</th>\n",
       "      <td>0</td>\n",
       "      <td>0.994771</td>\n",
       "      <td>0.017450</td>\n",
       "      <td>0.977250</td>\n",
       "      <td>0.134291</td>\n",
       "    </tr>\n",
       "    <tr>\n",
       "      <th>1</th>\n",
       "      <td>1</td>\n",
       "      <td>0.993437</td>\n",
       "      <td>0.022576</td>\n",
       "      <td>0.974333</td>\n",
       "      <td>0.164191</td>\n",
       "    </tr>\n",
       "    <tr>\n",
       "      <th>2</th>\n",
       "      <td>2</td>\n",
       "      <td>0.995708</td>\n",
       "      <td>0.015911</td>\n",
       "      <td>0.970583</td>\n",
       "      <td>0.192082</td>\n",
       "    </tr>\n",
       "    <tr>\n",
       "      <th>3</th>\n",
       "      <td>3</td>\n",
       "      <td>0.994458</td>\n",
       "      <td>0.019520</td>\n",
       "      <td>0.977583</td>\n",
       "      <td>0.147839</td>\n",
       "    </tr>\n",
       "    <tr>\n",
       "      <th>4</th>\n",
       "      <td>4</td>\n",
       "      <td>0.995583</td>\n",
       "      <td>0.016501</td>\n",
       "      <td>0.974333</td>\n",
       "      <td>0.178501</td>\n",
       "    </tr>\n",
       "    <tr>\n",
       "      <th>5</th>\n",
       "      <td>5</td>\n",
       "      <td>0.995563</td>\n",
       "      <td>0.017675</td>\n",
       "      <td>0.974917</td>\n",
       "      <td>0.173522</td>\n",
       "    </tr>\n",
       "    <tr>\n",
       "      <th>6</th>\n",
       "      <td>6</td>\n",
       "      <td>0.995188</td>\n",
       "      <td>0.017638</td>\n",
       "      <td>0.977833</td>\n",
       "      <td>0.166361</td>\n",
       "    </tr>\n",
       "    <tr>\n",
       "      <th>7</th>\n",
       "      <td>7</td>\n",
       "      <td>0.995708</td>\n",
       "      <td>0.015049</td>\n",
       "      <td>0.973083</td>\n",
       "      <td>0.199958</td>\n",
       "    </tr>\n",
       "    <tr>\n",
       "      <th>8</th>\n",
       "      <td>8</td>\n",
       "      <td>0.995167</td>\n",
       "      <td>0.019529</td>\n",
       "      <td>0.976667</td>\n",
       "      <td>0.170301</td>\n",
       "    </tr>\n",
       "    <tr>\n",
       "      <th>9</th>\n",
       "      <td>9</td>\n",
       "      <td>0.996646</td>\n",
       "      <td>0.011079</td>\n",
       "      <td>0.974833</td>\n",
       "      <td>0.183015</td>\n",
       "    </tr>\n",
       "  </tbody>\n",
       "</table>\n",
       "</div>"
      ],
      "text/plain": [
       "   epoch       acc      loss   val_acc  val_loss\n",
       "0      0  0.994771  0.017450  0.977250  0.134291\n",
       "1      1  0.993437  0.022576  0.974333  0.164191\n",
       "2      2  0.995708  0.015911  0.970583  0.192082\n",
       "3      3  0.994458  0.019520  0.977583  0.147839\n",
       "4      4  0.995583  0.016501  0.974333  0.178501\n",
       "5      5  0.995563  0.017675  0.974917  0.173522\n",
       "6      6  0.995188  0.017638  0.977833  0.166361\n",
       "7      7  0.995708  0.015049  0.973083  0.199958\n",
       "8      8  0.995167  0.019529  0.976667  0.170301\n",
       "9      9  0.996646  0.011079  0.974833  0.183015"
      ]
     },
     "execution_count": 52,
     "metadata": {},
     "output_type": "execute_result"
    }
   ],
   "source": [
    "normalised"
   ]
  },
  {
   "cell_type": "code",
   "execution_count": 42,
   "metadata": {},
   "outputs": [
    {
     "data": {
      "text/html": [
       "<div>\n",
       "<style scoped>\n",
       "    .dataframe tbody tr th:only-of-type {\n",
       "        vertical-align: middle;\n",
       "    }\n",
       "\n",
       "    .dataframe tbody tr th {\n",
       "        vertical-align: top;\n",
       "    }\n",
       "\n",
       "    .dataframe thead th {\n",
       "        text-align: right;\n",
       "    }\n",
       "</style>\n",
       "<table border=\"1\" class=\"dataframe\">\n",
       "  <thead>\n",
       "    <tr style=\"text-align: right;\">\n",
       "      <th></th>\n",
       "      <th>epoch</th>\n",
       "      <th>acc</th>\n",
       "      <th>loss</th>\n",
       "      <th>val_acc</th>\n",
       "      <th>val_loss</th>\n",
       "    </tr>\n",
       "  </thead>\n",
       "  <tbody>\n",
       "    <tr>\n",
       "      <th>0</th>\n",
       "      <td>0</td>\n",
       "      <td>0.090333</td>\n",
       "      <td>14.660876</td>\n",
       "      <td>0.091417</td>\n",
       "      <td>14.644633</td>\n",
       "    </tr>\n",
       "    <tr>\n",
       "      <th>1</th>\n",
       "      <td>1</td>\n",
       "      <td>0.090083</td>\n",
       "      <td>14.666123</td>\n",
       "      <td>0.091417</td>\n",
       "      <td>14.644633</td>\n",
       "    </tr>\n",
       "    <tr>\n",
       "      <th>2</th>\n",
       "      <td>2</td>\n",
       "      <td>0.090083</td>\n",
       "      <td>14.666123</td>\n",
       "      <td>0.091417</td>\n",
       "      <td>14.644633</td>\n",
       "    </tr>\n",
       "    <tr>\n",
       "      <th>3</th>\n",
       "      <td>3</td>\n",
       "      <td>0.090083</td>\n",
       "      <td>14.666123</td>\n",
       "      <td>0.091417</td>\n",
       "      <td>14.644633</td>\n",
       "    </tr>\n",
       "    <tr>\n",
       "      <th>4</th>\n",
       "      <td>4</td>\n",
       "      <td>0.090083</td>\n",
       "      <td>14.666123</td>\n",
       "      <td>0.091417</td>\n",
       "      <td>14.644633</td>\n",
       "    </tr>\n",
       "    <tr>\n",
       "      <th>5</th>\n",
       "      <td>5</td>\n",
       "      <td>0.090083</td>\n",
       "      <td>14.666123</td>\n",
       "      <td>0.091417</td>\n",
       "      <td>14.644633</td>\n",
       "    </tr>\n",
       "    <tr>\n",
       "      <th>6</th>\n",
       "      <td>6</td>\n",
       "      <td>0.090083</td>\n",
       "      <td>14.666123</td>\n",
       "      <td>0.091417</td>\n",
       "      <td>14.644633</td>\n",
       "    </tr>\n",
       "    <tr>\n",
       "      <th>7</th>\n",
       "      <td>7</td>\n",
       "      <td>0.090083</td>\n",
       "      <td>14.666123</td>\n",
       "      <td>0.091417</td>\n",
       "      <td>14.644633</td>\n",
       "    </tr>\n",
       "    <tr>\n",
       "      <th>8</th>\n",
       "      <td>8</td>\n",
       "      <td>0.090083</td>\n",
       "      <td>14.666123</td>\n",
       "      <td>0.091417</td>\n",
       "      <td>14.644633</td>\n",
       "    </tr>\n",
       "    <tr>\n",
       "      <th>9</th>\n",
       "      <td>9</td>\n",
       "      <td>0.090083</td>\n",
       "      <td>14.666123</td>\n",
       "      <td>0.091417</td>\n",
       "      <td>14.644633</td>\n",
       "    </tr>\n",
       "  </tbody>\n",
       "</table>\n",
       "</div>"
      ],
      "text/plain": [
       "   epoch       acc       loss   val_acc   val_loss\n",
       "0      0  0.090333  14.660876  0.091417  14.644633\n",
       "1      1  0.090083  14.666123  0.091417  14.644633\n",
       "2      2  0.090083  14.666123  0.091417  14.644633\n",
       "3      3  0.090083  14.666123  0.091417  14.644633\n",
       "4      4  0.090083  14.666123  0.091417  14.644633\n",
       "5      5  0.090083  14.666123  0.091417  14.644633\n",
       "6      6  0.090083  14.666123  0.091417  14.644633\n",
       "7      7  0.090083  14.666123  0.091417  14.644633\n",
       "8      8  0.090083  14.666123  0.091417  14.644633\n",
       "9      9  0.090083  14.666123  0.091417  14.644633"
      ]
     },
     "execution_count": 42,
     "metadata": {},
     "output_type": "execute_result"
    }
   ],
   "source": [
    "normal"
   ]
  },
  {
   "cell_type": "code",
   "execution_count": 53,
   "metadata": {},
   "outputs": [
    {
     "data": {
      "image/png": "[encoded data removed]",
      "text/plain": [
       "<matplotlib.figure.Figure at 0x7efff5c3f150>"
      ]
     },
     "metadata": {},
     "output_type": "display_data"
    }
   ],
   "source": [
    "pylab.plot(normalised['epoch'],normalised['val_acc'],label = 'Normalised Data')\n",
    "pylab.plot(normal['epoch'], normal['val_acc'],label = 'Normal Data')\n",
    "figure = pylab.legend(loc = 'upper right')\n",
    "pylab.xlabel(\"No of Epochs\")\n",
    "pylab.ylabel(\"Validation Accuracy\")\n",
    "plt.title('Accuracy_with_Normalised_and_Normal Data')\n",
    "pylab.savefig(\"Accuracy_with_Normalised_and_Normal Data\")\n",
    "pylab.show()"
   ]
  },
  {
   "cell_type": "code",
   "execution_count": 68,
   "metadata": {},
   "outputs": [],
   "source": [
    "Adam1 = optimizers.Adam(lr = 0.1)\n",
    "Adam2 = optimizers.Adam(lr = 0.01)\n",
    "Adam3 = optimizers.Adam(lr = 0.001)\n",
    "Adam4 = optimizers.Adam(lr = 0.0001)\n",
    "Adam5 = optimizers.Adam(lr = 0.00001)"
   ]
  },
  {
   "cell_type": "code",
   "execution_count": 63,
   "metadata": {},
   "outputs": [
    {
     "name": "stdout",
     "output_type": "stream",
     "text": [
      "Train on 48000 samples, validate on 12000 samples\n",
      "Epoch 1/10\n",
      "47968/48000 [============================>.] - ETA: 0s - loss: 14.4700 - acc: 0.1018Epoch 00001: val_loss improved from inf to 14.44987, saving model to MNIST_model_adam1.hdf5\n",
      "48000/48000 [==============================] - 29s 607us/step - loss: 14.4698 - acc: 0.1018 - val_loss: 14.4499 - val_acc: 0.1035\n",
      "Epoch 2/10\n",
      "47968/48000 [============================>.] - ETA: 0s - loss: 14.4763 - acc: 0.1019Epoch 00002: val_loss did not improve\n",
      "48000/48000 [==============================] - 29s 614us/step - loss: 14.4764 - acc: 0.1019 - val_loss: 14.4499 - val_acc: 0.1035\n",
      "Epoch 3/10\n",
      "47904/48000 [============================>.] - ETA: 0s - loss: 14.4761 - acc: 0.1019Epoch 00003: val_loss did not improve\n",
      "48000/48000 [==============================] - 29s 606us/step - loss: 14.4764 - acc: 0.1019 - val_loss: 14.4499 - val_acc: 0.1035\n",
      "Epoch 4/10\n",
      "47968/48000 [============================>.] - ETA: 0s - loss: 14.4763 - acc: 0.1019Epoch 00004: val_loss did not improve\n",
      "48000/48000 [==============================] - 29s 605us/step - loss: 14.4764 - acc: 0.1019 - val_loss: 14.4499 - val_acc: 0.1035\n",
      "Epoch 5/10\n",
      "47936/48000 [============================>.] - ETA: 0s - loss: 14.4762 - acc: 0.1019Epoch 00005: val_loss did not improve\n",
      "48000/48000 [==============================] - 29s 603us/step - loss: 14.4764 - acc: 0.1019 - val_loss: 14.4499 - val_acc: 0.1035\n",
      "Epoch 6/10\n",
      "47904/48000 [============================>.] - ETA: 0s - loss: 14.4755 - acc: 0.1019Epoch 00006: val_loss did not improve\n",
      "48000/48000 [==============================] - 29s 603us/step - loss: 14.4764 - acc: 0.1019 - val_loss: 14.4499 - val_acc: 0.1035\n",
      "Epoch 7/10\n",
      "47968/48000 [============================>.] - ETA: 0s - loss: 14.4766 - acc: 0.1018Epoch 00007: val_loss did not improve\n",
      "48000/48000 [==============================] - 29s 601us/step - loss: 14.4764 - acc: 0.1019 - val_loss: 14.4499 - val_acc: 0.1035\n",
      "Epoch 8/10\n",
      "47936/48000 [============================>.] - ETA: 0s - loss: 14.4759 - acc: 0.1019Epoch 00008: val_loss did not improve\n",
      "48000/48000 [==============================] - 29s 600us/step - loss: 14.4764 - acc: 0.1019 - val_loss: 14.4499 - val_acc: 0.1035\n",
      "Epoch 9/10\n",
      "47936/48000 [============================>.] - ETA: 0s - loss: 14.4772 - acc: 0.1018Epoch 00009: val_loss did not improve\n",
      "48000/48000 [==============================] - 28s 592us/step - loss: 14.4764 - acc: 0.1019 - val_loss: 14.4499 - val_acc: 0.1035\n",
      "Epoch 10/10\n",
      "47936/48000 [============================>.] - ETA: 0s - loss: 14.4759 - acc: 0.1019Epoch 00010: val_loss did not improve\n",
      "48000/48000 [==============================] - 29s 594us/step - loss: 14.4764 - acc: 0.1019 - val_loss: 14.4499 - val_acc: 0.1035\n"
     ]
    }
   ],
   "source": [
    "model1 =  model_constructor(1,[784],\"relu\")\n",
    "model1.compile(optimizer=Adam1, loss = 'categorical_crossentropy', metrics = ['accuracy'])\n",
    "csv_logger1 = CSVLogger('MNIST_model_adam1.csv')\n",
    "model_checkpoint1 = ModelCheckpoint('MNIST_model_adam1.hdf5', monitor = 'val_loss', verbose = 1, save_best_only = True)\n",
    "history1 = model1.fit(x_train_normalised, y_train, batch_size = 32, epochs = 10, \n",
    "                    validation_data=(x_validation_normalised, y_validation), callbacks = [csv_logger1, model_checkpoint1])"
   ]
  },
  {
   "cell_type": "code",
   "execution_count": 64,
   "metadata": {},
   "outputs": [
    {
     "name": "stdout",
     "output_type": "stream",
     "text": [
      "Train on 48000 samples, validate on 12000 samples\n",
      "Epoch 1/10\n",
      "47904/48000 [============================>.] - ETA: 0s - loss: 10.1501 - acc: 0.3668Epoch 00001: val_loss improved from inf to 10.17191, saving model to MNIST_model_adam2.hdf5\n",
      "48000/48000 [==============================] - 29s 610us/step - loss: 10.1503 - acc: 0.3668 - val_loss: 10.1719 - val_acc: 0.3683\n",
      "Epoch 2/10\n",
      "47968/48000 [============================>.] - ETA: 0s - loss: 10.0619 - acc: 0.3753Epoch 00002: val_loss improved from 10.17191 to 9.88328, saving model to MNIST_model_adam2.hdf5\n",
      "48000/48000 [==============================] - 29s 604us/step - loss: 10.0643 - acc: 0.3751 - val_loss: 9.8833 - val_acc: 0.3866\n",
      "Epoch 3/10\n",
      "47904/48000 [============================>.] - ETA: 0s - loss: 10.1366 - acc: 0.3708Epoch 00003: val_loss did not improve\n",
      "48000/48000 [==============================] - 29s 607us/step - loss: 10.1345 - acc: 0.3710 - val_loss: 9.9906 - val_acc: 0.3801\n",
      "Epoch 4/10\n",
      "47968/48000 [============================>.] - ETA: 0s - loss: 9.7476 - acc: 0.3948Epoch 00004: val_loss improved from 9.88328 to 9.00578, saving model to MNIST_model_adam2.hdf5\n",
      "48000/48000 [==============================] - 29s 611us/step - loss: 9.7468 - acc: 0.3949 - val_loss: 9.0058 - val_acc: 0.4410\n",
      "Epoch 5/10\n",
      "47936/48000 [============================>.] - ETA: 0s - loss: 8.9146 - acc: 0.4466Epoch 00005: val_loss improved from 9.00578 to 8.44045, saving model to MNIST_model_adam2.hdf5\n",
      "48000/48000 [==============================] - 29s 609us/step - loss: 8.9152 - acc: 0.4466 - val_loss: 8.4405 - val_acc: 0.4763\n",
      "Epoch 6/10\n",
      "47904/48000 [============================>.] - ETA: 0s - loss: 8.7903 - acc: 0.4544Epoch 00006: val_loss improved from 8.44045 to 8.43966, saving model to MNIST_model_adam2.hdf5\n",
      "48000/48000 [==============================] - 29s 604us/step - loss: 8.7885 - acc: 0.4545 - val_loss: 8.4397 - val_acc: 0.4763\n",
      "Epoch 7/10\n",
      "47968/48000 [============================>.] - ETA: 0s - loss: 8.9405 - acc: 0.4451Epoch 00007: val_loss did not improve\n",
      "48000/48000 [==============================] - 29s 598us/step - loss: 8.9409 - acc: 0.4451 - val_loss: 8.6819 - val_acc: 0.4612\n",
      "Epoch 8/10\n",
      "47936/48000 [============================>.] - ETA: 0s - loss: 8.7490 - acc: 0.4570Epoch 00008: val_loss did not improve\n",
      "48000/48000 [==============================] - 29s 596us/step - loss: 8.7487 - acc: 0.4570 - val_loss: 8.6838 - val_acc: 0.4611\n",
      "Epoch 9/10\n",
      "47904/48000 [============================>.] - ETA: 0s - loss: 8.7917 - acc: 0.4545Epoch 00009: val_loss did not improve\n",
      "48000/48000 [==============================] - 28s 592us/step - loss: 8.7909 - acc: 0.4545 - val_loss: 8.7280 - val_acc: 0.4582\n",
      "Epoch 10/10\n",
      "47904/48000 [============================>.] - ETA: 0s - loss: 8.7246 - acc: 0.4586Epoch 00010: val_loss improved from 8.43966 to 8.43127, saving model to MNIST_model_adam2.hdf5\n",
      "48000/48000 [==============================] - 28s 589us/step - loss: 8.7246 - acc: 0.4586 - val_loss: 8.4313 - val_acc: 0.4768\n"
     ]
    }
   ],
   "source": [
    "model1 =  model_constructor(1,[784],\"relu\")\n",
    "model1.compile(optimizer=Adam2, loss = 'categorical_crossentropy', metrics = ['accuracy'])\n",
    "csv_logger1 = CSVLogger('MNIST_model_adam2.csv')\n",
    "model_checkpoint1 = ModelCheckpoint('MNIST_model_adam2.hdf5', monitor = 'val_loss', verbose = 1,\n",
    "                                    save_best_only = True)\n",
    "history1 = model1.fit(x_train_normalised, y_train, batch_size = 32, epochs = 10, \n",
    "                    validation_data=(x_validation_normalised, y_validation), \n",
    "                      callbacks = [csv_logger1, model_checkpoint1])"
   ]
  },
  {
   "cell_type": "code",
   "execution_count": 69,
   "metadata": {},
   "outputs": [
    {
     "name": "stdout",
     "output_type": "stream",
     "text": [
      "Train on 48000 samples, validate on 12000 samples\n",
      "Epoch 1/10\n",
      "47968/48000 [============================>.] - ETA: 0s - loss: 0.2084 - acc: 0.9355Epoch 00001: val_loss improved from inf to 0.12230, saving model to MNIST_model_adam3.hdf5\n",
      "48000/48000 [==============================] - 29s 611us/step - loss: 0.2083 - acc: 0.9356 - val_loss: 0.1223 - val_acc: 0.9639\n",
      "Epoch 2/10\n",
      "47936/48000 [============================>.] - ETA: 0s - loss: 0.0907 - acc: 0.9719Epoch 00002: val_loss improved from 0.12230 to 0.09485, saving model to MNIST_model_adam3.hdf5\n",
      "48000/48000 [==============================] - 29s 598us/step - loss: 0.0907 - acc: 0.9718 - val_loss: 0.0948 - val_acc: 0.9731\n",
      "Epoch 3/10\n",
      "47968/48000 [============================>.] - ETA: 0s - loss: 0.0636 - acc: 0.9797Epoch 00003: val_loss did not improve\n",
      "48000/48000 [==============================] - 29s 604us/step - loss: 0.0636 - acc: 0.9797 - val_loss: 0.1072 - val_acc: 0.9705\n",
      "Epoch 4/10\n",
      "47936/48000 [============================>.] - ETA: 0s - loss: 0.0511 - acc: 0.9831Epoch 00004: val_loss did not improve\n",
      "48000/48000 [==============================] - 29s 600us/step - loss: 0.0510 - acc: 0.9832 - val_loss: 0.1133 - val_acc: 0.9728\n",
      "Epoch 5/10\n",
      "47904/48000 [============================>.] - ETA: 0s - loss: 0.0424 - acc: 0.9865Epoch 00005: val_loss did not improve\n",
      "48000/48000 [==============================] - 29s 597us/step - loss: 0.0423 - acc: 0.9865 - val_loss: 0.0993 - val_acc: 0.9771\n",
      "Epoch 6/10\n",
      "47968/48000 [============================>.] - ETA: 0s - loss: 0.0335 - acc: 0.9891Epoch 00006: val_loss did not improve\n",
      "48000/48000 [==============================] - 29s 598us/step - loss: 0.0335 - acc: 0.9891 - val_loss: 0.1089 - val_acc: 0.9760\n",
      "Epoch 7/10\n",
      "47968/48000 [============================>.] - ETA: 0s - loss: 0.0309 - acc: 0.9903Epoch 00007: val_loss did not improve\n",
      "48000/48000 [==============================] - 29s 596us/step - loss: 0.0308 - acc: 0.9903 - val_loss: 0.1242 - val_acc: 0.9742\n",
      "Epoch 8/10\n",
      "47936/48000 [============================>.] - ETA: 0s - loss: 0.0280 - acc: 0.9909Epoch 00008: val_loss did not improve\n",
      "48000/48000 [==============================] - 28s 592us/step - loss: 0.0280 - acc: 0.9909 - val_loss: 0.1248 - val_acc: 0.9749\n",
      "Epoch 9/10\n",
      "47904/48000 [============================>.] - ETA: 0s - loss: 0.0257 - acc: 0.9915Epoch 00009: val_loss did not improve\n",
      "48000/48000 [==============================] - 28s 587us/step - loss: 0.0257 - acc: 0.9915 - val_loss: 0.1464 - val_acc: 0.9739\n",
      "Epoch 10/10\n",
      "47936/48000 [============================>.] - ETA: 0s - loss: 0.0268 - acc: 0.9918Epoch 00010: val_loss did not improve\n",
      "48000/48000 [==============================] - 28s 585us/step - loss: 0.0268 - acc: 0.9918 - val_loss: 0.1192 - val_acc: 0.9772\n"
     ]
    }
   ],
   "source": [
    "model1 =  model_constructor(1,[784],\"relu\")\n",
    "model1.compile(optimizer=Adam3, loss = 'categorical_crossentropy', metrics = ['accuracy'])\n",
    "csv_logger1 = CSVLogger('MNIST_model_adam3.csv')\n",
    "model_checkpoint1 = ModelCheckpoint('MNIST_model_adam3.hdf5', monitor = 'val_loss',\n",
    "                                    verbose = 1, save_best_only = True)\n",
    "history1 = model1.fit(x_train_normalised, y_train, batch_size = 32, epochs = 10, \n",
    "                    validation_data=(x_validation_normalised, y_validation),\n",
    "                      callbacks = [csv_logger1, model_checkpoint1])"
   ]
  },
  {
   "cell_type": "code",
   "execution_count": 65,
   "metadata": {},
   "outputs": [
    {
     "name": "stdout",
     "output_type": "stream",
     "text": [
      "Train on 48000 samples, validate on 12000 samples\n",
      "Epoch 1/10\n",
      "47936/48000 [============================>.] - ETA: 0s - loss: 0.2256 - acc: 0.9336Epoch 00001: val_loss improved from inf to 0.14369, saving model to MNIST_model_adam4.hdf5\n",
      "48000/48000 [==============================] - 30s 622us/step - loss: 0.2254 - acc: 0.9337 - val_loss: 0.1437 - val_acc: 0.9604\n",
      "Epoch 2/10\n",
      "47936/48000 [============================>.] - ETA: 0s - loss: 0.1124 - acc: 0.9682Epoch 00002: val_loss improved from 0.14369 to 0.11513, saving model to MNIST_model_adam4.hdf5\n",
      "48000/48000 [==============================] - 29s 612us/step - loss: 0.1124 - acc: 0.9683 - val_loss: 0.1151 - val_acc: 0.9667\n",
      "Epoch 3/10\n",
      "47968/48000 [============================>.] - ETA: 0s - loss: 0.0796 - acc: 0.9775Epoch 00003: val_loss improved from 0.11513 to 0.09704, saving model to MNIST_model_adam4.hdf5\n",
      "48000/48000 [==============================] - 30s 616us/step - loss: 0.0796 - acc: 0.9775 - val_loss: 0.0970 - val_acc: 0.9721\n",
      "Epoch 4/10\n",
      "47968/48000 [============================>.] - ETA: 0s - loss: 0.0596 - acc: 0.9841Epoch 00004: val_loss improved from 0.09704 to 0.08731, saving model to MNIST_model_adam4.hdf5\n",
      "48000/48000 [==============================] - 30s 615us/step - loss: 0.0596 - acc: 0.9841 - val_loss: 0.0873 - val_acc: 0.9745\n",
      "Epoch 5/10\n",
      "47936/48000 [============================>.] - ETA: 0s - loss: 0.0455 - acc: 0.9878Epoch 00005: val_loss improved from 0.08731 to 0.08726, saving model to MNIST_model_adam4.hdf5\n",
      "48000/48000 [==============================] - 29s 611us/step - loss: 0.0455 - acc: 0.9878 - val_loss: 0.0873 - val_acc: 0.9742\n",
      "Epoch 6/10\n",
      "47968/48000 [============================>.] - ETA: 0s - loss: 0.0349 - acc: 0.9910Epoch 00006: val_loss improved from 0.08726 to 0.08221, saving model to MNIST_model_adam4.hdf5\n",
      "48000/48000 [==============================] - 29s 605us/step - loss: 0.0349 - acc: 0.9910 - val_loss: 0.0822 - val_acc: 0.9744\n",
      "Epoch 7/10\n",
      "47904/48000 [============================>.] - ETA: 0s - loss: 0.0268 - acc: 0.9939Epoch 00007: val_loss improved from 0.08221 to 0.08001, saving model to MNIST_model_adam4.hdf5\n",
      "48000/48000 [==============================] - 29s 601us/step - loss: 0.0268 - acc: 0.9939 - val_loss: 0.0800 - val_acc: 0.9758\n",
      "Epoch 8/10\n",
      "47968/48000 [============================>.] - ETA: 0s - loss: 0.0206 - acc: 0.9958Epoch 00008: val_loss improved from 0.08001 to 0.07650, saving model to MNIST_model_adam4.hdf5\n",
      "48000/48000 [==============================] - 29s 601us/step - loss: 0.0206 - acc: 0.9958 - val_loss: 0.0765 - val_acc: 0.9776\n",
      "Epoch 9/10\n",
      "47936/48000 [============================>.] - ETA: 0s - loss: 0.0162 - acc: 0.9969Epoch 00009: val_loss improved from 0.07650 to 0.07486, saving model to MNIST_model_adam4.hdf5\n",
      "48000/48000 [==============================] - 29s 602us/step - loss: 0.0162 - acc: 0.9969 - val_loss: 0.0749 - val_acc: 0.9779\n",
      "Epoch 10/10\n",
      "47904/48000 [============================>.] - ETA: 0s - loss: 0.0127 - acc: 0.9976Epoch 00010: val_loss improved from 0.07486 to 0.07231, saving model to MNIST_model_adam4.hdf5\n",
      "48000/48000 [==============================] - 29s 600us/step - loss: 0.0127 - acc: 0.9976 - val_loss: 0.0723 - val_acc: 0.9793\n"
     ]
    }
   ],
   "source": [
    "model1 =  model_constructor(1,[784],\"relu\")\n",
    "model1.compile(optimizer=Adam4, loss = 'categorical_crossentropy', metrics = ['accuracy'])\n",
    "csv_logger1 = CSVLogger('MNIST_model_adam4.csv')\n",
    "model_checkpoint1 = ModelCheckpoint('MNIST_model_adam4.hdf5', monitor = 'val_loss', \n",
    "                                    verbose = 1, save_best_only = True)\n",
    "history1 = model1.fit(x_train_normalised, y_train, batch_size = 32, epochs = 10, \n",
    "                    validation_data=(x_validation_normalised, y_validation), \n",
    "                      callbacks = [csv_logger1, model_checkpoint1])"
   ]
  },
  {
   "cell_type": "code",
   "execution_count": 70,
   "metadata": {},
   "outputs": [
    {
     "name": "stdout",
     "output_type": "stream",
     "text": [
      "Train on 48000 samples, validate on 12000 samples\n",
      "Epoch 1/10\n",
      "47904/48000 [============================>.] - ETA: 0s - loss: 0.8408 - acc: 0.7686Epoch 00001: val_loss improved from inf to 0.40287, saving model to MNIST_model_adam5.hdf5\n",
      "48000/48000 [==============================] - 31s 656us/step - loss: 0.8400 - acc: 0.7688 - val_loss: 0.4029 - val_acc: 0.8963\n",
      "Epoch 2/10\n",
      "47904/48000 [============================>.] - ETA: 0s - loss: 0.3578 - acc: 0.9031Epoch 00002: val_loss improved from 0.40287 to 0.29424, saving model to MNIST_model_adam5.hdf5\n",
      "48000/48000 [==============================] - 28s 577us/step - loss: 0.3577 - acc: 0.9032 - val_loss: 0.2942 - val_acc: 0.9194\n",
      "Epoch 3/10\n",
      "47904/48000 [============================>.] - ETA: 0s - loss: 0.2844 - acc: 0.9214Epoch 00003: val_loss improved from 0.29424 to 0.25173, saving model to MNIST_model_adam5.hdf5\n",
      "48000/48000 [==============================] - 27s 572us/step - loss: 0.2845 - acc: 0.9214 - val_loss: 0.2517 - val_acc: 0.9307\n",
      "Epoch 4/10\n",
      "47904/48000 [============================>.] - ETA: 0s - loss: 0.2461 - acc: 0.9319Epoch 00004: val_loss improved from 0.25173 to 0.22466, saving model to MNIST_model_adam5.hdf5\n",
      "48000/48000 [==============================] - 28s 573us/step - loss: 0.2459 - acc: 0.9320 - val_loss: 0.2247 - val_acc: 0.9376\n",
      "Epoch 5/10\n",
      "47904/48000 [============================>.] - ETA: 0s - loss: 0.2200 - acc: 0.9393Epoch 00005: val_loss improved from 0.22466 to 0.20599, saving model to MNIST_model_adam5.hdf5\n",
      "48000/48000 [==============================] - 27s 569us/step - loss: 0.2198 - acc: 0.9393 - val_loss: 0.2060 - val_acc: 0.9436\n",
      "Epoch 6/10\n",
      "47968/48000 [============================>.] - ETA: 0s - loss: 0.1995 - acc: 0.9451Epoch 00006: val_loss improved from 0.20599 to 0.19292, saving model to MNIST_model_adam5.hdf5\n",
      "48000/48000 [==============================] - 27s 560us/step - loss: 0.1995 - acc: 0.9451 - val_loss: 0.1929 - val_acc: 0.9486\n",
      "Epoch 7/10\n",
      "47904/48000 [============================>.] - ETA: 0s - loss: 0.1832 - acc: 0.9500Epoch 00007: val_loss improved from 0.19292 to 0.17965, saving model to MNIST_model_adam5.hdf5\n",
      "48000/48000 [==============================] - 27s 557us/step - loss: 0.1833 - acc: 0.9500 - val_loss: 0.1797 - val_acc: 0.9508\n",
      "Epoch 8/10\n",
      "47904/48000 [============================>.] - ETA: 0s - loss: 0.1697 - acc: 0.9535Epoch 00008: val_loss improved from 0.17965 to 0.16951, saving model to MNIST_model_adam5.hdf5\n",
      "48000/48000 [==============================] - 26s 550us/step - loss: 0.1697 - acc: 0.9535 - val_loss: 0.1695 - val_acc: 0.9557\n",
      "Epoch 9/10\n",
      "47904/48000 [============================>.] - ETA: 0s - loss: 0.1577 - acc: 0.9573Epoch 00009: val_loss improved from 0.16951 to 0.16084, saving model to MNIST_model_adam5.hdf5\n",
      "48000/48000 [==============================] - 29s 605us/step - loss: 0.1578 - acc: 0.9573 - val_loss: 0.1608 - val_acc: 0.9586\n",
      "Epoch 10/10\n",
      "47936/48000 [============================>.] - ETA: 0s - loss: 0.1475 - acc: 0.9600Epoch 00010: val_loss improved from 0.16084 to 0.15373, saving model to MNIST_model_adam5.hdf5\n",
      "48000/48000 [==============================] - 28s 592us/step - loss: 0.1475 - acc: 0.9600 - val_loss: 0.1537 - val_acc: 0.9592\n"
     ]
    }
   ],
   "source": [
    "model1 =  model_constructor(1,[784],\"relu\")\n",
    "model1.compile(optimizer=Adam5, loss = 'categorical_crossentropy', metrics = ['accuracy'])\n",
    "csv_logger1 = CSVLogger('MNIST_model_adam5.csv')\n",
    "model_checkpoint1 = ModelCheckpoint('MNIST_model_adam5.hdf5', monitor = 'val_loss',\n",
    "                                    verbose = 1, save_best_only = True)\n",
    "history1 = model1.fit(x_train_normalised, y_train,\n",
    "                      batch_size = 32, epochs = 10, \n",
    "                    validation_data=(x_validation_normalised, y_validation), callbacks = [csv_logger1, model_checkpoint1])"
   ]
  },
  {
   "cell_type": "code",
   "execution_count": 71,
   "metadata": {},
   "outputs": [
    {
     "data": {
      "text/html": [
       "<div>\n",
       "<style scoped>\n",
       "    .dataframe tbody tr th:only-of-type {\n",
       "        vertical-align: middle;\n",
       "    }\n",
       "\n",
       "    .dataframe tbody tr th {\n",
       "        vertical-align: top;\n",
       "    }\n",
       "\n",
       "    .dataframe thead th {\n",
       "        text-align: right;\n",
       "    }\n",
       "</style>\n",
       "<table border=\"1\" class=\"dataframe\">\n",
       "  <thead>\n",
       "    <tr style=\"text-align: right;\">\n",
       "      <th></th>\n",
       "      <th>epoch</th>\n",
       "      <th>acc</th>\n",
       "      <th>loss</th>\n",
       "      <th>val_acc</th>\n",
       "      <th>val_loss</th>\n",
       "    </tr>\n",
       "  </thead>\n",
       "  <tbody>\n",
       "    <tr>\n",
       "      <th>0</th>\n",
       "      <td>0</td>\n",
       "      <td>0.101792</td>\n",
       "      <td>14.469803</td>\n",
       "      <td>0.1035</td>\n",
       "      <td>14.449872</td>\n",
       "    </tr>\n",
       "    <tr>\n",
       "      <th>1</th>\n",
       "      <td>1</td>\n",
       "      <td>0.101854</td>\n",
       "      <td>14.476400</td>\n",
       "      <td>0.1035</td>\n",
       "      <td>14.449872</td>\n",
       "    </tr>\n",
       "    <tr>\n",
       "      <th>2</th>\n",
       "      <td>2</td>\n",
       "      <td>0.101854</td>\n",
       "      <td>14.476400</td>\n",
       "      <td>0.1035</td>\n",
       "      <td>14.449872</td>\n",
       "    </tr>\n",
       "    <tr>\n",
       "      <th>3</th>\n",
       "      <td>3</td>\n",
       "      <td>0.101854</td>\n",
       "      <td>14.476400</td>\n",
       "      <td>0.1035</td>\n",
       "      <td>14.449872</td>\n",
       "    </tr>\n",
       "    <tr>\n",
       "      <th>4</th>\n",
       "      <td>4</td>\n",
       "      <td>0.101854</td>\n",
       "      <td>14.476400</td>\n",
       "      <td>0.1035</td>\n",
       "      <td>14.449872</td>\n",
       "    </tr>\n",
       "    <tr>\n",
       "      <th>5</th>\n",
       "      <td>5</td>\n",
       "      <td>0.101854</td>\n",
       "      <td>14.476400</td>\n",
       "      <td>0.1035</td>\n",
       "      <td>14.449872</td>\n",
       "    </tr>\n",
       "    <tr>\n",
       "      <th>6</th>\n",
       "      <td>6</td>\n",
       "      <td>0.101854</td>\n",
       "      <td>14.476400</td>\n",
       "      <td>0.1035</td>\n",
       "      <td>14.449872</td>\n",
       "    </tr>\n",
       "    <tr>\n",
       "      <th>7</th>\n",
       "      <td>7</td>\n",
       "      <td>0.101854</td>\n",
       "      <td>14.476400</td>\n",
       "      <td>0.1035</td>\n",
       "      <td>14.449872</td>\n",
       "    </tr>\n",
       "    <tr>\n",
       "      <th>8</th>\n",
       "      <td>8</td>\n",
       "      <td>0.101854</td>\n",
       "      <td>14.476400</td>\n",
       "      <td>0.1035</td>\n",
       "      <td>14.449872</td>\n",
       "    </tr>\n",
       "    <tr>\n",
       "      <th>9</th>\n",
       "      <td>9</td>\n",
       "      <td>0.101854</td>\n",
       "      <td>14.476400</td>\n",
       "      <td>0.1035</td>\n",
       "      <td>14.449872</td>\n",
       "    </tr>\n",
       "  </tbody>\n",
       "</table>\n",
       "</div>"
      ],
      "text/plain": [
       "   epoch       acc       loss  val_acc   val_loss\n",
       "0      0  0.101792  14.469803   0.1035  14.449872\n",
       "1      1  0.101854  14.476400   0.1035  14.449872\n",
       "2      2  0.101854  14.476400   0.1035  14.449872\n",
       "3      3  0.101854  14.476400   0.1035  14.449872\n",
       "4      4  0.101854  14.476400   0.1035  14.449872\n",
       "5      5  0.101854  14.476400   0.1035  14.449872\n",
       "6      6  0.101854  14.476400   0.1035  14.449872\n",
       "7      7  0.101854  14.476400   0.1035  14.449872\n",
       "8      8  0.101854  14.476400   0.1035  14.449872\n",
       "9      9  0.101854  14.476400   0.1035  14.449872"
      ]
     },
     "execution_count": 71,
     "metadata": {},
     "output_type": "execute_result"
    }
   ],
   "source": [
    "lr1 = pd.read_csv('MNIST_model_adam1.csv')\n",
    "lr1"
   ]
  },
  {
   "cell_type": "code",
   "execution_count": 72,
   "metadata": {},
   "outputs": [
    {
     "data": {
      "text/html": [
       "<div>\n",
       "<style scoped>\n",
       "    .dataframe tbody tr th:only-of-type {\n",
       "        vertical-align: middle;\n",
       "    }\n",
       "\n",
       "    .dataframe tbody tr th {\n",
       "        vertical-align: top;\n",
       "    }\n",
       "\n",
       "    .dataframe thead th {\n",
       "        text-align: right;\n",
       "    }\n",
       "</style>\n",
       "<table border=\"1\" class=\"dataframe\">\n",
       "  <thead>\n",
       "    <tr style=\"text-align: right;\">\n",
       "      <th></th>\n",
       "      <th>epoch</th>\n",
       "      <th>acc</th>\n",
       "      <th>loss</th>\n",
       "      <th>val_acc</th>\n",
       "      <th>val_loss</th>\n",
       "    </tr>\n",
       "  </thead>\n",
       "  <tbody>\n",
       "    <tr>\n",
       "      <th>0</th>\n",
       "      <td>0</td>\n",
       "      <td>0.366833</td>\n",
       "      <td>10.150300</td>\n",
       "      <td>0.368333</td>\n",
       "      <td>10.171908</td>\n",
       "    </tr>\n",
       "    <tr>\n",
       "      <th>1</th>\n",
       "      <td>1</td>\n",
       "      <td>0.375146</td>\n",
       "      <td>10.064300</td>\n",
       "      <td>0.386583</td>\n",
       "      <td>9.883276</td>\n",
       "    </tr>\n",
       "    <tr>\n",
       "      <th>2</th>\n",
       "      <td>2</td>\n",
       "      <td>0.370979</td>\n",
       "      <td>10.134495</td>\n",
       "      <td>0.380083</td>\n",
       "      <td>9.990552</td>\n",
       "    </tr>\n",
       "    <tr>\n",
       "      <th>3</th>\n",
       "      <td>3</td>\n",
       "      <td>0.394854</td>\n",
       "      <td>9.746813</td>\n",
       "      <td>0.441000</td>\n",
       "      <td>9.005784</td>\n",
       "    </tr>\n",
       "    <tr>\n",
       "      <th>4</th>\n",
       "      <td>4</td>\n",
       "      <td>0.446604</td>\n",
       "      <td>8.915164</td>\n",
       "      <td>0.476250</td>\n",
       "      <td>8.440451</td>\n",
       "    </tr>\n",
       "    <tr>\n",
       "      <th>5</th>\n",
       "      <td>5</td>\n",
       "      <td>0.454500</td>\n",
       "      <td>8.788456</td>\n",
       "      <td>0.476250</td>\n",
       "      <td>8.439665</td>\n",
       "    </tr>\n",
       "    <tr>\n",
       "      <th>6</th>\n",
       "      <td>6</td>\n",
       "      <td>0.445063</td>\n",
       "      <td>8.940881</td>\n",
       "      <td>0.461250</td>\n",
       "      <td>8.681858</td>\n",
       "    </tr>\n",
       "    <tr>\n",
       "      <th>7</th>\n",
       "      <td>7</td>\n",
       "      <td>0.457042</td>\n",
       "      <td>8.748724</td>\n",
       "      <td>0.461083</td>\n",
       "      <td>8.683767</td>\n",
       "    </tr>\n",
       "    <tr>\n",
       "      <th>8</th>\n",
       "      <td>8</td>\n",
       "      <td>0.454500</td>\n",
       "      <td>8.790885</td>\n",
       "      <td>0.458250</td>\n",
       "      <td>8.728007</td>\n",
       "    </tr>\n",
       "    <tr>\n",
       "      <th>9</th>\n",
       "      <td>9</td>\n",
       "      <td>0.458646</td>\n",
       "      <td>8.724594</td>\n",
       "      <td>0.476833</td>\n",
       "      <td>8.431274</td>\n",
       "    </tr>\n",
       "  </tbody>\n",
       "</table>\n",
       "</div>"
      ],
      "text/plain": [
       "   epoch       acc       loss   val_acc   val_loss\n",
       "0      0  0.366833  10.150300  0.368333  10.171908\n",
       "1      1  0.375146  10.064300  0.386583   9.883276\n",
       "2      2  0.370979  10.134495  0.380083   9.990552\n",
       "3      3  0.394854   9.746813  0.441000   9.005784\n",
       "4      4  0.446604   8.915164  0.476250   8.440451\n",
       "5      5  0.454500   8.788456  0.476250   8.439665\n",
       "6      6  0.445063   8.940881  0.461250   8.681858\n",
       "7      7  0.457042   8.748724  0.461083   8.683767\n",
       "8      8  0.454500   8.790885  0.458250   8.728007\n",
       "9      9  0.458646   8.724594  0.476833   8.431274"
      ]
     },
     "execution_count": 72,
     "metadata": {},
     "output_type": "execute_result"
    }
   ],
   "source": [
    "lr2 = pd.read_csv('MNIST_model_adam2.csv')\n",
    "lr2"
   ]
  },
  {
   "cell_type": "code",
   "execution_count": 73,
   "metadata": {},
   "outputs": [
    {
     "data": {
      "text/html": [
       "<div>\n",
       "<style scoped>\n",
       "    .dataframe tbody tr th:only-of-type {\n",
       "        vertical-align: middle;\n",
       "    }\n",
       "\n",
       "    .dataframe tbody tr th {\n",
       "        vertical-align: top;\n",
       "    }\n",
       "\n",
       "    .dataframe thead th {\n",
       "        text-align: right;\n",
       "    }\n",
       "</style>\n",
       "<table border=\"1\" class=\"dataframe\">\n",
       "  <thead>\n",
       "    <tr style=\"text-align: right;\">\n",
       "      <th></th>\n",
       "      <th>epoch</th>\n",
       "      <th>acc</th>\n",
       "      <th>loss</th>\n",
       "      <th>val_acc</th>\n",
       "      <th>val_loss</th>\n",
       "    </tr>\n",
       "  </thead>\n",
       "  <tbody>\n",
       "    <tr>\n",
       "      <th>0</th>\n",
       "      <td>0</td>\n",
       "      <td>0.935583</td>\n",
       "      <td>0.208253</td>\n",
       "      <td>0.963917</td>\n",
       "      <td>0.122298</td>\n",
       "    </tr>\n",
       "    <tr>\n",
       "      <th>1</th>\n",
       "      <td>1</td>\n",
       "      <td>0.971771</td>\n",
       "      <td>0.090732</td>\n",
       "      <td>0.973083</td>\n",
       "      <td>0.094846</td>\n",
       "    </tr>\n",
       "    <tr>\n",
       "      <th>2</th>\n",
       "      <td>2</td>\n",
       "      <td>0.979708</td>\n",
       "      <td>0.063607</td>\n",
       "      <td>0.970500</td>\n",
       "      <td>0.107173</td>\n",
       "    </tr>\n",
       "    <tr>\n",
       "      <th>3</th>\n",
       "      <td>3</td>\n",
       "      <td>0.983167</td>\n",
       "      <td>0.050993</td>\n",
       "      <td>0.972750</td>\n",
       "      <td>0.113346</td>\n",
       "    </tr>\n",
       "    <tr>\n",
       "      <th>4</th>\n",
       "      <td>4</td>\n",
       "      <td>0.986458</td>\n",
       "      <td>0.042338</td>\n",
       "      <td>0.977083</td>\n",
       "      <td>0.099308</td>\n",
       "    </tr>\n",
       "    <tr>\n",
       "      <th>5</th>\n",
       "      <td>5</td>\n",
       "      <td>0.989125</td>\n",
       "      <td>0.033496</td>\n",
       "      <td>0.976000</td>\n",
       "      <td>0.108851</td>\n",
       "    </tr>\n",
       "    <tr>\n",
       "      <th>6</th>\n",
       "      <td>6</td>\n",
       "      <td>0.990333</td>\n",
       "      <td>0.030846</td>\n",
       "      <td>0.974250</td>\n",
       "      <td>0.124194</td>\n",
       "    </tr>\n",
       "    <tr>\n",
       "      <th>7</th>\n",
       "      <td>7</td>\n",
       "      <td>0.990875</td>\n",
       "      <td>0.027967</td>\n",
       "      <td>0.974917</td>\n",
       "      <td>0.124783</td>\n",
       "    </tr>\n",
       "    <tr>\n",
       "      <th>8</th>\n",
       "      <td>8</td>\n",
       "      <td>0.991500</td>\n",
       "      <td>0.025715</td>\n",
       "      <td>0.973917</td>\n",
       "      <td>0.146361</td>\n",
       "    </tr>\n",
       "    <tr>\n",
       "      <th>9</th>\n",
       "      <td>9</td>\n",
       "      <td>0.991792</td>\n",
       "      <td>0.026846</td>\n",
       "      <td>0.977250</td>\n",
       "      <td>0.119212</td>\n",
       "    </tr>\n",
       "  </tbody>\n",
       "</table>\n",
       "</div>"
      ],
      "text/plain": [
       "   epoch       acc      loss   val_acc  val_loss\n",
       "0      0  0.935583  0.208253  0.963917  0.122298\n",
       "1      1  0.971771  0.090732  0.973083  0.094846\n",
       "2      2  0.979708  0.063607  0.970500  0.107173\n",
       "3      3  0.983167  0.050993  0.972750  0.113346\n",
       "4      4  0.986458  0.042338  0.977083  0.099308\n",
       "5      5  0.989125  0.033496  0.976000  0.108851\n",
       "6      6  0.990333  0.030846  0.974250  0.124194\n",
       "7      7  0.990875  0.027967  0.974917  0.124783\n",
       "8      8  0.991500  0.025715  0.973917  0.146361\n",
       "9      9  0.991792  0.026846  0.977250  0.119212"
      ]
     },
     "execution_count": 73,
     "metadata": {},
     "output_type": "execute_result"
    }
   ],
   "source": [
    "lr3 = pd.read_csv('MNIST_model_adam3.csv')\n",
    "lr3"
   ]
  },
  {
   "cell_type": "code",
   "execution_count": 74,
   "metadata": {},
   "outputs": [
    {
     "data": {
      "text/html": [
       "<div>\n",
       "<style scoped>\n",
       "    .dataframe tbody tr th:only-of-type {\n",
       "        vertical-align: middle;\n",
       "    }\n",
       "\n",
       "    .dataframe tbody tr th {\n",
       "        vertical-align: top;\n",
       "    }\n",
       "\n",
       "    .dataframe thead th {\n",
       "        text-align: right;\n",
       "    }\n",
       "</style>\n",
       "<table border=\"1\" class=\"dataframe\">\n",
       "  <thead>\n",
       "    <tr style=\"text-align: right;\">\n",
       "      <th></th>\n",
       "      <th>epoch</th>\n",
       "      <th>acc</th>\n",
       "      <th>loss</th>\n",
       "      <th>val_acc</th>\n",
       "      <th>val_loss</th>\n",
       "    </tr>\n",
       "  </thead>\n",
       "  <tbody>\n",
       "    <tr>\n",
       "      <th>0</th>\n",
       "      <td>0</td>\n",
       "      <td>0.933667</td>\n",
       "      <td>0.225440</td>\n",
       "      <td>0.960417</td>\n",
       "      <td>0.143688</td>\n",
       "    </tr>\n",
       "    <tr>\n",
       "      <th>1</th>\n",
       "      <td>1</td>\n",
       "      <td>0.968271</td>\n",
       "      <td>0.112375</td>\n",
       "      <td>0.966750</td>\n",
       "      <td>0.115129</td>\n",
       "    </tr>\n",
       "    <tr>\n",
       "      <th>2</th>\n",
       "      <td>2</td>\n",
       "      <td>0.977500</td>\n",
       "      <td>0.079554</td>\n",
       "      <td>0.972083</td>\n",
       "      <td>0.097044</td>\n",
       "    </tr>\n",
       "    <tr>\n",
       "      <th>3</th>\n",
       "      <td>3</td>\n",
       "      <td>0.984125</td>\n",
       "      <td>0.059553</td>\n",
       "      <td>0.974500</td>\n",
       "      <td>0.087313</td>\n",
       "    </tr>\n",
       "    <tr>\n",
       "      <th>4</th>\n",
       "      <td>4</td>\n",
       "      <td>0.987833</td>\n",
       "      <td>0.045517</td>\n",
       "      <td>0.974167</td>\n",
       "      <td>0.087262</td>\n",
       "    </tr>\n",
       "    <tr>\n",
       "      <th>5</th>\n",
       "      <td>5</td>\n",
       "      <td>0.990979</td>\n",
       "      <td>0.034940</td>\n",
       "      <td>0.974417</td>\n",
       "      <td>0.082212</td>\n",
       "    </tr>\n",
       "    <tr>\n",
       "      <th>6</th>\n",
       "      <td>6</td>\n",
       "      <td>0.993938</td>\n",
       "      <td>0.026790</td>\n",
       "      <td>0.975750</td>\n",
       "      <td>0.080013</td>\n",
       "    </tr>\n",
       "    <tr>\n",
       "      <th>7</th>\n",
       "      <td>7</td>\n",
       "      <td>0.995813</td>\n",
       "      <td>0.020605</td>\n",
       "      <td>0.977583</td>\n",
       "      <td>0.076497</td>\n",
       "    </tr>\n",
       "    <tr>\n",
       "      <th>8</th>\n",
       "      <td>8</td>\n",
       "      <td>0.996917</td>\n",
       "      <td>0.016247</td>\n",
       "      <td>0.977917</td>\n",
       "      <td>0.074865</td>\n",
       "    </tr>\n",
       "    <tr>\n",
       "      <th>9</th>\n",
       "      <td>9</td>\n",
       "      <td>0.997604</td>\n",
       "      <td>0.012724</td>\n",
       "      <td>0.979333</td>\n",
       "      <td>0.072306</td>\n",
       "    </tr>\n",
       "  </tbody>\n",
       "</table>\n",
       "</div>"
      ],
      "text/plain": [
       "   epoch       acc      loss   val_acc  val_loss\n",
       "0      0  0.933667  0.225440  0.960417  0.143688\n",
       "1      1  0.968271  0.112375  0.966750  0.115129\n",
       "2      2  0.977500  0.079554  0.972083  0.097044\n",
       "3      3  0.984125  0.059553  0.974500  0.087313\n",
       "4      4  0.987833  0.045517  0.974167  0.087262\n",
       "5      5  0.990979  0.034940  0.974417  0.082212\n",
       "6      6  0.993938  0.026790  0.975750  0.080013\n",
       "7      7  0.995813  0.020605  0.977583  0.076497\n",
       "8      8  0.996917  0.016247  0.977917  0.074865\n",
       "9      9  0.997604  0.012724  0.979333  0.072306"
      ]
     },
     "execution_count": 74,
     "metadata": {},
     "output_type": "execute_result"
    }
   ],
   "source": [
    "lr4 = pd.read_csv('MNIST_model_adam4.csv')\n",
    "lr4"
   ]
  },
  {
   "cell_type": "code",
   "execution_count": 75,
   "metadata": {},
   "outputs": [
    {
     "data": {
      "text/html": [
       "<div>\n",
       "<style scoped>\n",
       "    .dataframe tbody tr th:only-of-type {\n",
       "        vertical-align: middle;\n",
       "    }\n",
       "\n",
       "    .dataframe tbody tr th {\n",
       "        vertical-align: top;\n",
       "    }\n",
       "\n",
       "    .dataframe thead th {\n",
       "        text-align: right;\n",
       "    }\n",
       "</style>\n",
       "<table border=\"1\" class=\"dataframe\">\n",
       "  <thead>\n",
       "    <tr style=\"text-align: right;\">\n",
       "      <th></th>\n",
       "      <th>epoch</th>\n",
       "      <th>acc</th>\n",
       "      <th>loss</th>\n",
       "      <th>val_acc</th>\n",
       "      <th>val_loss</th>\n",
       "    </tr>\n",
       "  </thead>\n",
       "  <tbody>\n",
       "    <tr>\n",
       "      <th>0</th>\n",
       "      <td>0</td>\n",
       "      <td>0.768833</td>\n",
       "      <td>0.840020</td>\n",
       "      <td>0.896333</td>\n",
       "      <td>0.402873</td>\n",
       "    </tr>\n",
       "    <tr>\n",
       "      <th>1</th>\n",
       "      <td>1</td>\n",
       "      <td>0.903167</td>\n",
       "      <td>0.357712</td>\n",
       "      <td>0.919417</td>\n",
       "      <td>0.294243</td>\n",
       "    </tr>\n",
       "    <tr>\n",
       "      <th>2</th>\n",
       "      <td>2</td>\n",
       "      <td>0.921354</td>\n",
       "      <td>0.284470</td>\n",
       "      <td>0.930750</td>\n",
       "      <td>0.251735</td>\n",
       "    </tr>\n",
       "    <tr>\n",
       "      <th>3</th>\n",
       "      <td>3</td>\n",
       "      <td>0.932000</td>\n",
       "      <td>0.245942</td>\n",
       "      <td>0.937583</td>\n",
       "      <td>0.224657</td>\n",
       "    </tr>\n",
       "    <tr>\n",
       "      <th>4</th>\n",
       "      <td>4</td>\n",
       "      <td>0.939333</td>\n",
       "      <td>0.219776</td>\n",
       "      <td>0.943583</td>\n",
       "      <td>0.205991</td>\n",
       "    </tr>\n",
       "    <tr>\n",
       "      <th>5</th>\n",
       "      <td>5</td>\n",
       "      <td>0.945063</td>\n",
       "      <td>0.199491</td>\n",
       "      <td>0.948583</td>\n",
       "      <td>0.192922</td>\n",
       "    </tr>\n",
       "    <tr>\n",
       "      <th>6</th>\n",
       "      <td>6</td>\n",
       "      <td>0.949979</td>\n",
       "      <td>0.183296</td>\n",
       "      <td>0.950833</td>\n",
       "      <td>0.179653</td>\n",
       "    </tr>\n",
       "    <tr>\n",
       "      <th>7</th>\n",
       "      <td>7</td>\n",
       "      <td>0.953479</td>\n",
       "      <td>0.169699</td>\n",
       "      <td>0.955750</td>\n",
       "      <td>0.169507</td>\n",
       "    </tr>\n",
       "    <tr>\n",
       "      <th>8</th>\n",
       "      <td>8</td>\n",
       "      <td>0.957313</td>\n",
       "      <td>0.157796</td>\n",
       "      <td>0.958583</td>\n",
       "      <td>0.160839</td>\n",
       "    </tr>\n",
       "    <tr>\n",
       "      <th>9</th>\n",
       "      <td>9</td>\n",
       "      <td>0.959958</td>\n",
       "      <td>0.147515</td>\n",
       "      <td>0.959167</td>\n",
       "      <td>0.153731</td>\n",
       "    </tr>\n",
       "  </tbody>\n",
       "</table>\n",
       "</div>"
      ],
      "text/plain": [
       "   epoch       acc      loss   val_acc  val_loss\n",
       "0      0  0.768833  0.840020  0.896333  0.402873\n",
       "1      1  0.903167  0.357712  0.919417  0.294243\n",
       "2      2  0.921354  0.284470  0.930750  0.251735\n",
       "3      3  0.932000  0.245942  0.937583  0.224657\n",
       "4      4  0.939333  0.219776  0.943583  0.205991\n",
       "5      5  0.945063  0.199491  0.948583  0.192922\n",
       "6      6  0.949979  0.183296  0.950833  0.179653\n",
       "7      7  0.953479  0.169699  0.955750  0.169507\n",
       "8      8  0.957313  0.157796  0.958583  0.160839\n",
       "9      9  0.959958  0.147515  0.959167  0.153731"
      ]
     },
     "execution_count": 75,
     "metadata": {},
     "output_type": "execute_result"
    }
   ],
   "source": [
    "lr5 = pd.read_csv('MNIST_model_adam5.csv')\n",
    "lr5"
   ]
  },
  {
   "cell_type": "code",
   "execution_count": 76,
   "metadata": {},
   "outputs": [
    {
     "data": {
      "image/png": "[encoded data removed]",
      "text/plain": [
       "<matplotlib.figure.Figure at 0x7effddfb4250>"
      ]
     },
     "metadata": {},
     "output_type": "display_data"
    }
   ],
   "source": [
    "pylab.plot(lr1['epoch'],lr1['val_acc'],label = 'lr_e1')\n",
    "pylab.plot(lr2['epoch'], lr2['val_acc'],label = 'lr_e2')\n",
    "pylab.plot(lr3['epoch'],lr3['val_acc'],label = 'lr_e3')\n",
    "pylab.plot(lr4['epoch'], lr4['val_acc'],label = 'lr_e4')\n",
    "pylab.plot(lr5['epoch'],lr5['val_acc'],label = 'lr_e5')\n",
    "figure = pylab.legend(loc = 'upper right')\n",
    "pylab.xlabel(\"No of Epochs\")\n",
    "pylab.ylabel(\"Validation Accuracy\")\n",
    "plt.title('Accuracy_with_different_learning_rates')\n",
    "pylab.savefig(\"Accuracy_with_different_learning_rates\")\n",
    "pylab.show()"
   ]
  },
  {
   "cell_type": "code",
   "execution_count": 77,
   "metadata": {},
   "outputs": [
    {
     "name": "stdout",
     "output_type": "stream",
     "text": [
      "Train on 48000 samples, validate on 12000 samples\n",
      "Epoch 1/10\n",
      "47936/48000 [============================>.] - ETA: 0s - loss: 0.2051 - acc: 0.9405Epoch 00001: val_loss improved from inf to 0.10995, saving model to MNIST_model_relu.hdf5\n",
      "48000/48000 [==============================] - 30s 634us/step - loss: 0.2049 - acc: 0.9406 - val_loss: 0.1099 - val_acc: 0.9664\n",
      "Epoch 2/10\n",
      "47936/48000 [============================>.] - ETA: 0s - loss: 0.0787 - acc: 0.9754Epoch 00002: val_loss did not improve\n",
      "48000/48000 [==============================] - 30s 632us/step - loss: 0.0787 - acc: 0.9754 - val_loss: 0.1107 - val_acc: 0.9666\n",
      "Epoch 3/10\n",
      "47936/48000 [============================>.] - ETA: 0s - loss: 0.0536 - acc: 0.9831Epoch 00003: val_loss improved from 0.10995 to 0.09036, saving model to MNIST_model_relu.hdf5\n",
      "48000/48000 [==============================] - 29s 612us/step - loss: 0.0538 - acc: 0.9831 - val_loss: 0.0904 - val_acc: 0.9738\n",
      "Epoch 4/10\n",
      "47904/48000 [============================>.] - ETA: 0s - loss: 0.0430 - acc: 0.9861Epoch 00004: val_loss did not improve\n",
      "48000/48000 [==============================] - 29s 603us/step - loss: 0.0431 - acc: 0.9861 - val_loss: 0.0932 - val_acc: 0.9766\n",
      "Epoch 5/10\n",
      "47968/48000 [============================>.] - ETA: 0s - loss: 0.0328 - acc: 0.9886Epoch 00005: val_loss improved from 0.09036 to 0.08900, saving model to MNIST_model_relu.hdf5\n",
      "48000/48000 [==============================] - 29s 604us/step - loss: 0.0328 - acc: 0.9886 - val_loss: 0.0890 - val_acc: 0.9760\n",
      "Epoch 6/10\n",
      "47968/48000 [============================>.] - ETA: 0s - loss: 0.0269 - acc: 0.9911Epoch 00006: val_loss did not improve\n",
      "48000/48000 [==============================] - 29s 609us/step - loss: 0.0269 - acc: 0.9911 - val_loss: 0.1103 - val_acc: 0.9756\n",
      "Epoch 7/10\n",
      "47968/48000 [============================>.] - ETA: 0s - loss: 0.0264 - acc: 0.9918Epoch 00007: val_loss did not improve\n",
      "48000/48000 [==============================] - 29s 608us/step - loss: 0.0264 - acc: 0.9918 - val_loss: 0.1126 - val_acc: 0.9745\n",
      "Epoch 8/10\n",
      "47968/48000 [============================>.] - ETA: 0s - loss: 0.0209 - acc: 0.9932Epoch 00008: val_loss did not improve\n",
      "48000/48000 [==============================] - 29s 604us/step - loss: 0.0208 - acc: 0.9932 - val_loss: 0.1192 - val_acc: 0.9756\n",
      "Epoch 9/10\n",
      "47904/48000 [============================>.] - ETA: 0s - loss: 0.0217 - acc: 0.9927Epoch 00009: val_loss did not improve\n",
      "48000/48000 [==============================] - 29s 604us/step - loss: 0.0217 - acc: 0.9927 - val_loss: 0.1201 - val_acc: 0.9738\n",
      "Epoch 10/10\n",
      "47936/48000 [============================>.] - ETA: 0s - loss: 0.0181 - acc: 0.9939Epoch 00010: val_loss did not improve\n",
      "48000/48000 [==============================] - 29s 605us/step - loss: 0.0181 - acc: 0.9939 - val_loss: 0.1125 - val_acc: 0.9774\n"
     ]
    }
   ],
   "source": [
    "model1 =  model_constructor(1,[784],\"relu\")\n",
    "model1.compile(optimizer=Adam3, loss = 'categorical_crossentropy', metrics = ['accuracy'])\n",
    "csv_logger1 = CSVLogger('MNIST_model_relu.csv')\n",
    "model_checkpoint1 = ModelCheckpoint('MNIST_model_relu.hdf5', monitor = 'val_loss',\n",
    "                                    verbose = 1, save_best_only = True)\n",
    "history1 = model1.fit(x_train_normalised, y_train,\n",
    "                      batch_size = 32, epochs = 10, \n",
    "                    validation_data=(x_validation_normalised, y_validation), callbacks = [csv_logger1, model_checkpoint1])"
   ]
  },
  {
   "cell_type": "code",
   "execution_count": 78,
   "metadata": {},
   "outputs": [
    {
     "name": "stdout",
     "output_type": "stream",
     "text": [
      "Train on 48000 samples, validate on 12000 samples\n",
      "Epoch 1/10\n",
      "47904/48000 [============================>.] - ETA: 0s - loss: 0.2469 - acc: 0.9300Epoch 00001: val_loss improved from inf to 0.14456, saving model to MNIST_model_tanh.hdf5\n",
      "48000/48000 [==============================] - 30s 619us/step - loss: 0.2467 - acc: 0.9300 - val_loss: 0.1446 - val_acc: 0.9573\n",
      "Epoch 2/10\n",
      "47904/48000 [============================>.] - ETA: 0s - loss: 0.1071 - acc: 0.9670Epoch 00002: val_loss improved from 0.14456 to 0.11592, saving model to MNIST_model_tanh.hdf5\n",
      "48000/48000 [==============================] - 30s 615us/step - loss: 0.1070 - acc: 0.9670 - val_loss: 0.1159 - val_acc: 0.9648\n",
      "Epoch 3/10\n",
      "47968/48000 [============================>.] - ETA: 0s - loss: 0.0792 - acc: 0.9753Epoch 00003: val_loss improved from 0.11592 to 0.11384, saving model to MNIST_model_tanh.hdf5\n",
      "48000/48000 [==============================] - 30s 618us/step - loss: 0.0792 - acc: 0.9753 - val_loss: 0.1138 - val_acc: 0.9659\n",
      "Epoch 4/10\n",
      "47968/48000 [============================>.] - ETA: 0s - loss: 0.0666 - acc: 0.9793Epoch 00004: val_loss did not improve\n",
      "48000/48000 [==============================] - 30s 615us/step - loss: 0.0667 - acc: 0.9793 - val_loss: 0.1352 - val_acc: 0.9577\n",
      "Epoch 5/10\n",
      "47904/48000 [============================>.] - ETA: 0s - loss: 0.0564 - acc: 0.9817Epoch 00005: val_loss did not improve\n",
      "48000/48000 [==============================] - 29s 612us/step - loss: 0.0565 - acc: 0.9817 - val_loss: 0.1176 - val_acc: 0.9619\n",
      "Epoch 6/10\n",
      "47936/48000 [============================>.] - ETA: 0s - loss: 0.0481 - acc: 0.9846Epoch 00006: val_loss improved from 0.11384 to 0.11232, saving model to MNIST_model_tanh.hdf5\n",
      "48000/48000 [==============================] - 30s 617us/step - loss: 0.0482 - acc: 0.9846 - val_loss: 0.1123 - val_acc: 0.9685\n",
      "Epoch 7/10\n",
      "47968/48000 [============================>.] - ETA: 0s - loss: 0.0452 - acc: 0.9849Epoch 00007: val_loss improved from 0.11232 to 0.09231, saving model to MNIST_model_tanh.hdf5\n",
      "48000/48000 [==============================] - 29s 609us/step - loss: 0.0452 - acc: 0.9849 - val_loss: 0.0923 - val_acc: 0.9731\n",
      "Epoch 8/10\n",
      "47904/48000 [============================>.] - ETA: 0s - loss: 0.0411 - acc: 0.9871Epoch 00008: val_loss did not improve\n",
      "48000/48000 [==============================] - 29s 602us/step - loss: 0.0411 - acc: 0.9871 - val_loss: 0.1260 - val_acc: 0.9650\n",
      "Epoch 9/10\n",
      "47936/48000 [============================>.] - ETA: 0s - loss: 0.0385 - acc: 0.9869Epoch 00009: val_loss did not improve\n",
      "48000/48000 [==============================] - 29s 599us/step - loss: 0.0385 - acc: 0.9869 - val_loss: 0.1107 - val_acc: 0.9712\n",
      "Epoch 10/10\n",
      "47968/48000 [============================>.] - ETA: 0s - loss: 0.0358 - acc: 0.9881Epoch 00010: val_loss did not improve\n",
      "48000/48000 [==============================] - 29s 599us/step - loss: 0.0357 - acc: 0.9881 - val_loss: 0.1001 - val_acc: 0.9725\n"
     ]
    }
   ],
   "source": [
    "model1 =  model_constructor(1,[784],\"tanh\")\n",
    "model1.compile(optimizer=Adam3, loss = 'categorical_crossentropy', metrics = ['accuracy'])\n",
    "csv_logger1 = CSVLogger('MNIST_model_tanh.csv')\n",
    "model_checkpoint1 = ModelCheckpoint('MNIST_model_tanh.hdf5', monitor = 'val_loss',\n",
    "                                    verbose = 1, save_best_only = True)\n",
    "history1 = model1.fit(x_train_normalised, y_train,\n",
    "                      batch_size = 32, epochs = 10, \n",
    "                    validation_data=(x_validation_normalised, y_validation), callbacks = [csv_logger1, model_checkpoint1])"
   ]
  },
  {
   "cell_type": "code",
   "execution_count": 79,
   "metadata": {},
   "outputs": [
    {
     "name": "stdout",
     "output_type": "stream",
     "text": [
      "Train on 48000 samples, validate on 12000 samples\n",
      "Epoch 1/10\n",
      "47904/48000 [============================>.] - ETA: 0s - loss: 0.2006 - acc: 0.9395Epoch 00001: val_loss improved from inf to 0.11691, saving model to MNIST_model_sigmoid.hdf5\n",
      "48000/48000 [==============================] - 29s 611us/step - loss: 0.2005 - acc: 0.9396 - val_loss: 0.1169 - val_acc: 0.9648\n",
      "Epoch 2/10\n",
      "47904/48000 [============================>.] - ETA: 0s - loss: 0.0795 - acc: 0.9761Epoch 00002: val_loss improved from 0.11691 to 0.08924, saving model to MNIST_model_sigmoid.hdf5\n",
      "48000/48000 [==============================] - 29s 600us/step - loss: 0.0795 - acc: 0.9761 - val_loss: 0.0892 - val_acc: 0.9722\n",
      "Epoch 3/10\n",
      "47968/48000 [============================>.] - ETA: 0s - loss: 0.0507 - acc: 0.9845Epoch 00003: val_loss improved from 0.08924 to 0.08283, saving model to MNIST_model_sigmoid.hdf5\n",
      "48000/48000 [==============================] - 29s 602us/step - loss: 0.0506 - acc: 0.9845 - val_loss: 0.0828 - val_acc: 0.9749\n",
      "Epoch 4/10\n",
      "47968/48000 [============================>.] - ETA: 0s - loss: 0.0334 - acc: 0.9902Epoch 00004: val_loss improved from 0.08283 to 0.07813, saving model to MNIST_model_sigmoid.hdf5\n",
      "48000/48000 [==============================] - 29s 598us/step - loss: 0.0334 - acc: 0.9902 - val_loss: 0.0781 - val_acc: 0.9759\n",
      "Epoch 5/10\n",
      "47936/48000 [============================>.] - ETA: 0s - loss: 0.0234 - acc: 0.9935Epoch 00005: val_loss did not improve\n",
      "48000/48000 [==============================] - 29s 602us/step - loss: 0.0234 - acc: 0.9935 - val_loss: 0.0789 - val_acc: 0.9778\n",
      "Epoch 6/10\n",
      "47904/48000 [============================>.] - ETA: 0s - loss: 0.0181 - acc: 0.9946Epoch 00006: val_loss improved from 0.07813 to 0.07629, saving model to MNIST_model_sigmoid.hdf5\n",
      "48000/48000 [==============================] - 29s 600us/step - loss: 0.0181 - acc: 0.9946 - val_loss: 0.0763 - val_acc: 0.9781\n",
      "Epoch 7/10\n",
      "47904/48000 [============================>.] - ETA: 0s - loss: 0.0140 - acc: 0.9957Epoch 00007: val_loss did not improve\n",
      "48000/48000 [==============================] - 29s 597us/step - loss: 0.0140 - acc: 0.9958 - val_loss: 0.0791 - val_acc: 0.9778\n",
      "Epoch 8/10\n",
      "47936/48000 [============================>.] - ETA: 0s - loss: 0.0119 - acc: 0.9967Epoch 00008: val_loss did not improve\n",
      "48000/48000 [==============================] - 30s 615us/step - loss: 0.0119 - acc: 0.9967 - val_loss: 0.0789 - val_acc: 0.9785\n",
      "Epoch 9/10\n",
      "47968/48000 [============================>.] - ETA: 0s - loss: 0.0096 - acc: 0.9974Epoch 00009: val_loss did not improve\n",
      "48000/48000 [==============================] - 28s 578us/step - loss: 0.0096 - acc: 0.9974 - val_loss: 0.0980 - val_acc: 0.9737\n",
      "Epoch 10/10\n",
      "47904/48000 [============================>.] - ETA: 0s - loss: 0.0079 - acc: 0.9980Epoch 00010: val_loss did not improve\n",
      "48000/48000 [==============================] - 26s 540us/step - loss: 0.0079 - acc: 0.9980 - val_loss: 0.0799 - val_acc: 0.9800\n"
     ]
    }
   ],
   "source": [
    "model1 =  model_constructor(1,[784],\"sigmoid\")\n",
    "model1.compile(optimizer=Adam3, loss = 'categorical_crossentropy', metrics = ['accuracy'])\n",
    "csv_logger1 = CSVLogger('MNIST_model_sigmoid.csv')\n",
    "model_checkpoint1 = ModelCheckpoint('MNIST_model_sigmoid.hdf5', monitor = 'val_loss',\n",
    "                                    verbose = 1, save_best_only = True)\n",
    "history1 = model1.fit(x_train_normalised, y_train,\n",
    "                      batch_size = 32, epochs = 10, \n",
    "                    validation_data=(x_validation_normalised, y_validation), callbacks = [csv_logger1, model_checkpoint1])"
   ]
  },
  {
   "cell_type": "code",
   "execution_count": 80,
   "metadata": {},
   "outputs": [
    {
     "data": {
      "text/html": [
       "<div>\n",
       "<style scoped>\n",
       "    .dataframe tbody tr th:only-of-type {\n",
       "        vertical-align: middle;\n",
       "    }\n",
       "\n",
       "    .dataframe tbody tr th {\n",
       "        vertical-align: top;\n",
       "    }\n",
       "\n",
       "    .dataframe thead th {\n",
       "        text-align: right;\n",
       "    }\n",
       "</style>\n",
       "<table border=\"1\" class=\"dataframe\">\n",
       "  <thead>\n",
       "    <tr style=\"text-align: right;\">\n",
       "      <th></th>\n",
       "      <th>epoch</th>\n",
       "      <th>acc</th>\n",
       "      <th>loss</th>\n",
       "      <th>val_acc</th>\n",
       "      <th>val_loss</th>\n",
       "    </tr>\n",
       "  </thead>\n",
       "  <tbody>\n",
       "    <tr>\n",
       "      <th>0</th>\n",
       "      <td>0</td>\n",
       "      <td>0.940583</td>\n",
       "      <td>0.204931</td>\n",
       "      <td>0.966417</td>\n",
       "      <td>0.109950</td>\n",
       "    </tr>\n",
       "    <tr>\n",
       "      <th>1</th>\n",
       "      <td>1</td>\n",
       "      <td>0.975396</td>\n",
       "      <td>0.078709</td>\n",
       "      <td>0.966583</td>\n",
       "      <td>0.110732</td>\n",
       "    </tr>\n",
       "    <tr>\n",
       "      <th>2</th>\n",
       "      <td>2</td>\n",
       "      <td>0.983062</td>\n",
       "      <td>0.053792</td>\n",
       "      <td>0.973750</td>\n",
       "      <td>0.090357</td>\n",
       "    </tr>\n",
       "    <tr>\n",
       "      <th>3</th>\n",
       "      <td>3</td>\n",
       "      <td>0.986062</td>\n",
       "      <td>0.043078</td>\n",
       "      <td>0.976583</td>\n",
       "      <td>0.093187</td>\n",
       "    </tr>\n",
       "    <tr>\n",
       "      <th>4</th>\n",
       "      <td>4</td>\n",
       "      <td>0.988646</td>\n",
       "      <td>0.032816</td>\n",
       "      <td>0.976000</td>\n",
       "      <td>0.089001</td>\n",
       "    </tr>\n",
       "    <tr>\n",
       "      <th>5</th>\n",
       "      <td>5</td>\n",
       "      <td>0.991125</td>\n",
       "      <td>0.026938</td>\n",
       "      <td>0.975583</td>\n",
       "      <td>0.110287</td>\n",
       "    </tr>\n",
       "    <tr>\n",
       "      <th>6</th>\n",
       "      <td>6</td>\n",
       "      <td>0.991833</td>\n",
       "      <td>0.026384</td>\n",
       "      <td>0.974500</td>\n",
       "      <td>0.112603</td>\n",
       "    </tr>\n",
       "    <tr>\n",
       "      <th>7</th>\n",
       "      <td>7</td>\n",
       "      <td>0.993167</td>\n",
       "      <td>0.020848</td>\n",
       "      <td>0.975583</td>\n",
       "      <td>0.119172</td>\n",
       "    </tr>\n",
       "    <tr>\n",
       "      <th>8</th>\n",
       "      <td>8</td>\n",
       "      <td>0.992687</td>\n",
       "      <td>0.021705</td>\n",
       "      <td>0.973750</td>\n",
       "      <td>0.120096</td>\n",
       "    </tr>\n",
       "    <tr>\n",
       "      <th>9</th>\n",
       "      <td>9</td>\n",
       "      <td>0.993938</td>\n",
       "      <td>0.018126</td>\n",
       "      <td>0.977417</td>\n",
       "      <td>0.112478</td>\n",
       "    </tr>\n",
       "  </tbody>\n",
       "</table>\n",
       "</div>"
      ],
      "text/plain": [
       "   epoch       acc      loss   val_acc  val_loss\n",
       "0      0  0.940583  0.204931  0.966417  0.109950\n",
       "1      1  0.975396  0.078709  0.966583  0.110732\n",
       "2      2  0.983062  0.053792  0.973750  0.090357\n",
       "3      3  0.986062  0.043078  0.976583  0.093187\n",
       "4      4  0.988646  0.032816  0.976000  0.089001\n",
       "5      5  0.991125  0.026938  0.975583  0.110287\n",
       "6      6  0.991833  0.026384  0.974500  0.112603\n",
       "7      7  0.993167  0.020848  0.975583  0.119172\n",
       "8      8  0.992687  0.021705  0.973750  0.120096\n",
       "9      9  0.993938  0.018126  0.977417  0.112478"
      ]
     },
     "execution_count": 80,
     "metadata": {},
     "output_type": "execute_result"
    }
   ],
   "source": [
    "relu = pd.read_csv('MNIST_model_relu.csv')\n",
    "relu"
   ]
  },
  {
   "cell_type": "code",
   "execution_count": 82,
   "metadata": {},
   "outputs": [
    {
     "data": {
      "text/html": [
       "<div>\n",
       "<style scoped>\n",
       "    .dataframe tbody tr th:only-of-type {\n",
       "        vertical-align: middle;\n",
       "    }\n",
       "\n",
       "    .dataframe tbody tr th {\n",
       "        vertical-align: top;\n",
       "    }\n",
       "\n",
       "    .dataframe thead th {\n",
       "        text-align: right;\n",
       "    }\n",
       "</style>\n",
       "<table border=\"1\" class=\"dataframe\">\n",
       "  <thead>\n",
       "    <tr style=\"text-align: right;\">\n",
       "      <th></th>\n",
       "      <th>epoch</th>\n",
       "      <th>acc</th>\n",
       "      <th>loss</th>\n",
       "      <th>val_acc</th>\n",
       "      <th>val_loss</th>\n",
       "    </tr>\n",
       "  </thead>\n",
       "  <tbody>\n",
       "    <tr>\n",
       "      <th>0</th>\n",
       "      <td>0</td>\n",
       "      <td>0.930042</td>\n",
       "      <td>0.246695</td>\n",
       "      <td>0.957250</td>\n",
       "      <td>0.144560</td>\n",
       "    </tr>\n",
       "    <tr>\n",
       "      <th>1</th>\n",
       "      <td>1</td>\n",
       "      <td>0.967000</td>\n",
       "      <td>0.107009</td>\n",
       "      <td>0.964833</td>\n",
       "      <td>0.115922</td>\n",
       "    </tr>\n",
       "    <tr>\n",
       "      <th>2</th>\n",
       "      <td>2</td>\n",
       "      <td>0.975271</td>\n",
       "      <td>0.079208</td>\n",
       "      <td>0.965917</td>\n",
       "      <td>0.113836</td>\n",
       "    </tr>\n",
       "    <tr>\n",
       "      <th>3</th>\n",
       "      <td>3</td>\n",
       "      <td>0.979292</td>\n",
       "      <td>0.066741</td>\n",
       "      <td>0.957667</td>\n",
       "      <td>0.135173</td>\n",
       "    </tr>\n",
       "    <tr>\n",
       "      <th>4</th>\n",
       "      <td>4</td>\n",
       "      <td>0.981688</td>\n",
       "      <td>0.056501</td>\n",
       "      <td>0.961917</td>\n",
       "      <td>0.117592</td>\n",
       "    </tr>\n",
       "    <tr>\n",
       "      <th>5</th>\n",
       "      <td>5</td>\n",
       "      <td>0.984604</td>\n",
       "      <td>0.048176</td>\n",
       "      <td>0.968500</td>\n",
       "      <td>0.112318</td>\n",
       "    </tr>\n",
       "    <tr>\n",
       "      <th>6</th>\n",
       "      <td>6</td>\n",
       "      <td>0.984917</td>\n",
       "      <td>0.045211</td>\n",
       "      <td>0.973083</td>\n",
       "      <td>0.092315</td>\n",
       "    </tr>\n",
       "    <tr>\n",
       "      <th>7</th>\n",
       "      <td>7</td>\n",
       "      <td>0.987125</td>\n",
       "      <td>0.041149</td>\n",
       "      <td>0.965000</td>\n",
       "      <td>0.125957</td>\n",
       "    </tr>\n",
       "    <tr>\n",
       "      <th>8</th>\n",
       "      <td>8</td>\n",
       "      <td>0.986854</td>\n",
       "      <td>0.038502</td>\n",
       "      <td>0.971250</td>\n",
       "      <td>0.110700</td>\n",
       "    </tr>\n",
       "    <tr>\n",
       "      <th>9</th>\n",
       "      <td>9</td>\n",
       "      <td>0.988125</td>\n",
       "      <td>0.035729</td>\n",
       "      <td>0.972500</td>\n",
       "      <td>0.100091</td>\n",
       "    </tr>\n",
       "  </tbody>\n",
       "</table>\n",
       "</div>"
      ],
      "text/plain": [
       "   epoch       acc      loss   val_acc  val_loss\n",
       "0      0  0.930042  0.246695  0.957250  0.144560\n",
       "1      1  0.967000  0.107009  0.964833  0.115922\n",
       "2      2  0.975271  0.079208  0.965917  0.113836\n",
       "3      3  0.979292  0.066741  0.957667  0.135173\n",
       "4      4  0.981688  0.056501  0.961917  0.117592\n",
       "5      5  0.984604  0.048176  0.968500  0.112318\n",
       "6      6  0.984917  0.045211  0.973083  0.092315\n",
       "7      7  0.987125  0.041149  0.965000  0.125957\n",
       "8      8  0.986854  0.038502  0.971250  0.110700\n",
       "9      9  0.988125  0.035729  0.972500  0.100091"
      ]
     },
     "execution_count": 82,
     "metadata": {},
     "output_type": "execute_result"
    }
   ],
   "source": [
    "tanh = pd.read_csv('MNIST_model_tanh.csv')\n",
    "tanh"
   ]
  },
  {
   "cell_type": "code",
   "execution_count": 81,
   "metadata": {},
   "outputs": [
    {
     "data": {
      "text/html": [
       "<div>\n",
       "<style scoped>\n",
       "    .dataframe tbody tr th:only-of-type {\n",
       "        vertical-align: middle;\n",
       "    }\n",
       "\n",
       "    .dataframe tbody tr th {\n",
       "        vertical-align: top;\n",
       "    }\n",
       "\n",
       "    .dataframe thead th {\n",
       "        text-align: right;\n",
       "    }\n",
       "</style>\n",
       "<table border=\"1\" class=\"dataframe\">\n",
       "  <thead>\n",
       "    <tr style=\"text-align: right;\">\n",
       "      <th></th>\n",
       "      <th>epoch</th>\n",
       "      <th>acc</th>\n",
       "      <th>loss</th>\n",
       "      <th>val_acc</th>\n",
       "      <th>val_loss</th>\n",
       "    </tr>\n",
       "  </thead>\n",
       "  <tbody>\n",
       "    <tr>\n",
       "      <th>0</th>\n",
       "      <td>0</td>\n",
       "      <td>0.939625</td>\n",
       "      <td>0.200455</td>\n",
       "      <td>0.964833</td>\n",
       "      <td>0.116912</td>\n",
       "    </tr>\n",
       "    <tr>\n",
       "      <th>1</th>\n",
       "      <td>1</td>\n",
       "      <td>0.976063</td>\n",
       "      <td>0.079504</td>\n",
       "      <td>0.972250</td>\n",
       "      <td>0.089238</td>\n",
       "    </tr>\n",
       "    <tr>\n",
       "      <th>2</th>\n",
       "      <td>2</td>\n",
       "      <td>0.984542</td>\n",
       "      <td>0.050641</td>\n",
       "      <td>0.974917</td>\n",
       "      <td>0.082825</td>\n",
       "    </tr>\n",
       "    <tr>\n",
       "      <th>3</th>\n",
       "      <td>3</td>\n",
       "      <td>0.990187</td>\n",
       "      <td>0.033411</td>\n",
       "      <td>0.975917</td>\n",
       "      <td>0.078130</td>\n",
       "    </tr>\n",
       "    <tr>\n",
       "      <th>4</th>\n",
       "      <td>4</td>\n",
       "      <td>0.993542</td>\n",
       "      <td>0.023358</td>\n",
       "      <td>0.977750</td>\n",
       "      <td>0.078923</td>\n",
       "    </tr>\n",
       "    <tr>\n",
       "      <th>5</th>\n",
       "      <td>5</td>\n",
       "      <td>0.994625</td>\n",
       "      <td>0.018081</td>\n",
       "      <td>0.978083</td>\n",
       "      <td>0.076291</td>\n",
       "    </tr>\n",
       "    <tr>\n",
       "      <th>6</th>\n",
       "      <td>6</td>\n",
       "      <td>0.995750</td>\n",
       "      <td>0.013967</td>\n",
       "      <td>0.977750</td>\n",
       "      <td>0.079124</td>\n",
       "    </tr>\n",
       "    <tr>\n",
       "      <th>7</th>\n",
       "      <td>7</td>\n",
       "      <td>0.996667</td>\n",
       "      <td>0.011863</td>\n",
       "      <td>0.978500</td>\n",
       "      <td>0.078918</td>\n",
       "    </tr>\n",
       "    <tr>\n",
       "      <th>8</th>\n",
       "      <td>8</td>\n",
       "      <td>0.997437</td>\n",
       "      <td>0.009600</td>\n",
       "      <td>0.973667</td>\n",
       "      <td>0.097963</td>\n",
       "    </tr>\n",
       "    <tr>\n",
       "      <th>9</th>\n",
       "      <td>9</td>\n",
       "      <td>0.998021</td>\n",
       "      <td>0.007943</td>\n",
       "      <td>0.980000</td>\n",
       "      <td>0.079941</td>\n",
       "    </tr>\n",
       "  </tbody>\n",
       "</table>\n",
       "</div>"
      ],
      "text/plain": [
       "   epoch       acc      loss   val_acc  val_loss\n",
       "0      0  0.939625  0.200455  0.964833  0.116912\n",
       "1      1  0.976063  0.079504  0.972250  0.089238\n",
       "2      2  0.984542  0.050641  0.974917  0.082825\n",
       "3      3  0.990187  0.033411  0.975917  0.078130\n",
       "4      4  0.993542  0.023358  0.977750  0.078923\n",
       "5      5  0.994625  0.018081  0.978083  0.076291\n",
       "6      6  0.995750  0.013967  0.977750  0.079124\n",
       "7      7  0.996667  0.011863  0.978500  0.078918\n",
       "8      8  0.997437  0.009600  0.973667  0.097963\n",
       "9      9  0.998021  0.007943  0.980000  0.079941"
      ]
     },
     "execution_count": 81,
     "metadata": {},
     "output_type": "execute_result"
    }
   ],
   "source": [
    "sigmoid = pd.read_csv('MNIST_model_sigmoid.csv')\n",
    "sigmoid"
   ]
  },
  {
   "cell_type": "code",
   "execution_count": 83,
   "metadata": {},
   "outputs": [
    {
     "data": {
      "image/png": "[encoded data removed]",
      "text/plain": [
       "<matplotlib.figure.Figure at 0x7effdd5f5c10>"
      ]
     },
     "metadata": {},
     "output_type": "display_data"
    }
   ],
   "source": [
    "pylab.plot(relu['epoch'],relu['val_acc'],label = 'Relu')\n",
    "pylab.plot(tanh['epoch'], tanh['val_acc'],label = 'Tanh')\n",
    "pylab.plot(sigmoid['epoch'],sigmoid['val_acc'],label = 'Sigmoid')\n",
    "figure = pylab.legend(loc = 'upper right')\n",
    "pylab.xlabel(\"No of Epochs\")\n",
    "pylab.ylabel(\"Validation Accuracy\")\n",
    "plt.title('Accuracy_with_different_activations')\n",
    "pylab.savefig(\"Accuracy_with_different_activations\")\n",
    "pylab.show()"
   ]
  },
  {
   "cell_type": "code",
   "execution_count": 42,
   "metadata": {},
   "outputs": [
    {
     "data": {
      "image/png": "[encoded data removed]",
      "text/plain": [
       "<matplotlib.figure.Figure at 0x7f8d4d549a10>"
      ]
     },
     "metadata": {},
     "output_type": "display_data"
    },
    {
     "data": {
      "image/png": "[encoded data removed]",
      "text/plain": [
       "<matplotlib.figure.Figure at 0x7f8d4c3c5a50>"
      ]
     },
     "metadata": {},
     "output_type": "display_data"
    }
   ],
   "source": [
    "# summarize history for accuracy\n",
    "plt.plot(history.history['acc'])\n",
    "plt.plot(history.history['val_acc'])\n",
    "plt.title('MODEL ACCURACY')\n",
    "plt.ylabel(\"ACCURACY\")\n",
    "plt.xlabel(\"EPOCH\")\n",
    "plt.legend(['train','test'], loc='upper left')\n",
    "plt.show()\n",
    "\n",
    "# summarise history for loss\n",
    "plt.plot(history.history['loss'])\n",
    "plt.plot(history.history['val_loss'])\n",
    "plt.title('MODEL LOSS')\n",
    "plt.ylabel(\"LOSS\")\n",
    "plt.xlabel(\"EPOCH\")\n",
    "plt.legend(['train','test'], loc='upper left')\n",
    "plt.show()"
   ]
  },
  {
   "cell_type": "code",
   "execution_count": null,
   "metadata": {},
   "outputs": [],
   "source": []
  },
  {
   "cell_type": "code",
   "execution_count": 27,
   "metadata": {},
   "outputs": [
    {
     "name": "stdout",
     "output_type": "stream",
     "text": [
      "10000/10000 [==============================] - 1s 105us/step\n"
     ]
    }
   ],
   "source": [
    "score = model.evaluate(x_test_normalised, y_test)"
   ]
  },
  {
   "cell_type": "code",
   "execution_count": 28,
   "metadata": {},
   "outputs": [
    {
     "data": {
      "text/plain": [
       "[0.10537971118960159, 0.97809999999999997]"
      ]
     },
     "execution_count": 28,
     "metadata": {},
     "output_type": "execute_result"
    }
   ],
   "source": [
    "score"
   ]
  },
  {
   "cell_type": "code",
   "execution_count": 29,
   "metadata": {},
   "outputs": [],
   "source": [
    "predictions = model.predict(x_test_normalised)"
   ]
  },
  {
   "cell_type": "code",
   "execution_count": 30,
   "metadata": {},
   "outputs": [
    {
     "data": {
      "text/plain": [
       "(10000, 10)"
      ]
     },
     "execution_count": 30,
     "metadata": {},
     "output_type": "execute_result"
    }
   ],
   "source": [
    "predictions.shape"
   ]
  },
  {
   "cell_type": "code",
   "execution_count": 32,
   "metadata": {},
   "outputs": [],
   "source": [
    "def denormalise(image) :\n",
    "    image = image * (std + 1e-7)\n",
    "    image = image + mean\n",
    "    return image"
   ]
  },
  {
   "cell_type": "code",
   "execution_count": 31,
   "metadata": {},
   "outputs": [],
   "source": [
    "def convert_vector_to_image(vector) :\n",
    "    image = np.reshape(vector,(28,28))\n",
    "    return image"
   ]
  },
  {
   "cell_type": "code",
   "execution_count": null,
   "metadata": {},
   "outputs": [],
   "source": []
  },
  {
   "cell_type": "code",
   "execution_count": 135,
   "metadata": {},
   "outputs": [
    {
     "data": {
      "text/plain": [
       "[0.1226119778562992, 0.96989999999999998]"
      ]
     },
     "execution_count": 135,
     "metadata": {},
     "output_type": "execute_result"
    }
   ],
   "source": [
    "score"
   ]
  },
  {
   "cell_type": "code",
   "execution_count": null,
   "metadata": {},
   "outputs": [],
   "source": []
  }
 ],
 "metadata": {
  "kernelspec": {
   "display_name": "Python 2",
   "language": "python",
   "name": "python2"
  },
  "language_info": {
   "codemirror_mode": {
    "name": "ipython",
    "version": 2
   },
   "file_extension": ".py",
   "mimetype": "text/x-python",
   "name": "python",
   "nbconvert_exporter": "python",
   "pygments_lexer": "ipython2",
   "version": "2.7.12"
  }
 },
 "nbformat": 4,
 "nbformat_minor": 2
}

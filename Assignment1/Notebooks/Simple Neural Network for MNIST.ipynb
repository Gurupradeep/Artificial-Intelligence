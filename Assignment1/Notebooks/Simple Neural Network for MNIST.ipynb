{
 "cells": [
  {
   "cell_type": "code",
   "execution_count": 106,
   "metadata": {},
   "outputs": [],
   "source": [
    "#Importing the Necessary packages\n",
    "import numpy as np\n",
    "from keras import Sequential\n",
    "from keras.layers import Dense\n",
    "from keras import Model\n",
    "from keras.utils import to_categorical\n",
    "from keras.layers import Activation"
   ]
  },
  {
   "cell_type": "code",
   "execution_count": 107,
   "metadata": {},
   "outputs": [],
   "source": [
    "#Downloading the dataset\n",
    "from keras.datasets import mnist\n",
    "(x_train, y_train), (x_test, y_test) = mnist.load_data()"
   ]
  },
  {
   "cell_type": "code",
   "execution_count": 108,
   "metadata": {},
   "outputs": [],
   "source": [
    "#Saving the dataset in local system\n",
    "np.save(\"x_train_out.npy\",x_train)\n",
    "np.save(\"y_train_out.npy\",y_train)\n",
    "np.save(\"x_test_out.npy\",x_test)\n",
    "np.save(\"y_test_out.npy\",y_test)"
   ]
  },
  {
   "cell_type": "code",
   "execution_count": 109,
   "metadata": {},
   "outputs": [],
   "source": [
    "#Loading the dataset.\n",
    "x_train = np.load('x_train_out.npy')\n",
    "y_train = np.load('y_train_out.npy')\n",
    "x_test = np.load('x_test_out.npy')\n",
    "y_test = np.load('y_test_out.npy')"
   ]
  },
  {
   "cell_type": "code",
   "execution_count": 110,
   "metadata": {},
   "outputs": [
    {
     "data": {
      "text/plain": [
       "(60000, 28, 28)"
      ]
     },
     "execution_count": 110,
     "metadata": {},
     "output_type": "execute_result"
    }
   ],
   "source": [
    "x_train.shape"
   ]
  },
  {
   "cell_type": "code",
   "execution_count": 111,
   "metadata": {},
   "outputs": [
    {
     "data": {
      "text/plain": [
       "(10000, 28, 28)"
      ]
     },
     "execution_count": 111,
     "metadata": {},
     "output_type": "execute_result"
    }
   ],
   "source": [
    "x_test.shape"
   ]
  },
  {
   "cell_type": "code",
   "execution_count": 112,
   "metadata": {},
   "outputs": [],
   "source": [
    "#Defining number of pixels and Number of classes \n",
    "NUM_PIXELS = x_train.shape[1] * x_train.shape[2]\n",
    "NUM_CLASSES = 10"
   ]
  },
  {
   "cell_type": "code",
   "execution_count": 113,
   "metadata": {},
   "outputs": [],
   "source": [
    "#Converting the data into a form of 1D vector.\n",
    "x_train = x_train.reshape(x_train.shape[0], NUM_PIXELS).astype('float32')\n",
    "x_test = x_test.reshape(x_test.shape[0], NUM_PIXELS).astype('float32')"
   ]
  },
  {
   "cell_type": "code",
   "execution_count": 114,
   "metadata": {},
   "outputs": [],
   "source": [
    "#Normalising Data based on the mean and the standard deviation of the training data.\n",
    "mean = np.mean(x_train)\n",
    "std = np.std(x_train)\n",
    "x_train_normalised = (x_train-mean)/(std+1e-7)\n",
    "x_test_normalised = (x_test-mean)/(std+1e-7)"
   ]
  },
  {
   "cell_type": "code",
   "execution_count": 103,
   "metadata": {},
   "outputs": [],
   "source": [
    "training_count = (int)(0.8 * x_train.shape[0])"
   ]
  },
  {
   "cell_type": "code",
   "execution_count": 104,
   "metadata": {},
   "outputs": [
    {
     "data": {
      "text/plain": [
       "48000"
      ]
     },
     "execution_count": 104,
     "metadata": {},
     "output_type": "execute_result"
    }
   ],
   "source": [
    "training_count"
   ]
  },
  {
   "cell_type": "code",
   "execution_count": 115,
   "metadata": {},
   "outputs": [],
   "source": [
    "#Splitting the training data into normal training data and validation (Normalised Data)\n",
    "x_validation_normalised = x_train_normalised[training_count:]\n",
    "y_validation = y_train[training_count:]\n",
    "x_train_normalised = x_train_normalised[0:training_count]\n",
    "y_train = y_train[0:training_count]"
   ]
  },
  {
   "cell_type": "code",
   "execution_count": 116,
   "metadata": {},
   "outputs": [
    {
     "data": {
      "text/plain": [
       "(12000, 784)"
      ]
     },
     "execution_count": 116,
     "metadata": {},
     "output_type": "execute_result"
    }
   ],
   "source": [
    "x_validation_normalised.shape"
   ]
  },
  {
   "cell_type": "code",
   "execution_count": 117,
   "metadata": {},
   "outputs": [
    {
     "data": {
      "text/plain": [
       "(48000, 784)"
      ]
     },
     "execution_count": 117,
     "metadata": {},
     "output_type": "execute_result"
    }
   ],
   "source": [
    "x_train_normalised.shape"
   ]
  },
  {
   "cell_type": "code",
   "execution_count": 118,
   "metadata": {},
   "outputs": [],
   "source": [
    "#Splitting the training data into normal training data and validation (Not Normalised Data)\n",
    "x_validation = x_train[training_count:]\n",
    "x_train = x_train[0:training_count]"
   ]
  },
  {
   "cell_type": "code",
   "execution_count": 119,
   "metadata": {},
   "outputs": [
    {
     "data": {
      "text/plain": [
       "(12000, 784)"
      ]
     },
     "execution_count": 119,
     "metadata": {},
     "output_type": "execute_result"
    }
   ],
   "source": [
    "x_validation.shape"
   ]
  },
  {
   "cell_type": "code",
   "execution_count": 120,
   "metadata": {},
   "outputs": [
    {
     "data": {
      "text/plain": [
       "(48000, 784)"
      ]
     },
     "execution_count": 120,
     "metadata": {},
     "output_type": "execute_result"
    }
   ],
   "source": [
    "x_train.shape"
   ]
  },
  {
   "cell_type": "code",
   "execution_count": 121,
   "metadata": {},
   "outputs": [],
   "source": [
    "#One hot encoding the labels\n",
    "y_train = to_categorical(y_train, 10)\n",
    "y_validation = to_categorical(y_validation,10)\n",
    "y_test = to_categorical(y_test, 10)"
   ]
  },
  {
   "cell_type": "code",
   "execution_count": 122,
   "metadata": {},
   "outputs": [
    {
     "data": {
      "text/plain": [
       "(48000, 10)"
      ]
     },
     "execution_count": 122,
     "metadata": {},
     "output_type": "execute_result"
    }
   ],
   "source": [
    "y_train.shape"
   ]
  },
  {
   "cell_type": "code",
   "execution_count": 123,
   "metadata": {},
   "outputs": [
    {
     "data": {
      "text/plain": [
       "(12000, 10)"
      ]
     },
     "execution_count": 123,
     "metadata": {},
     "output_type": "execute_result"
    }
   ],
   "source": [
    "y_validation.shape"
   ]
  },
  {
   "cell_type": "code",
   "execution_count": 124,
   "metadata": {},
   "outputs": [
    {
     "data": {
      "text/plain": [
       "(10000, 10)"
      ]
     },
     "execution_count": 124,
     "metadata": {},
     "output_type": "execute_result"
    }
   ],
   "source": [
    "y_test.shape"
   ]
  },
  {
   "cell_type": "code",
   "execution_count": 125,
   "metadata": {},
   "outputs": [],
   "source": [
    "#Setting seeds of both Numpy and tensorflow to reproduce the results\n",
    "from numpy.random import seed\n",
    "seed(6)\n",
    "from tensorflow import set_random_seed\n",
    "set_random_seed(6)"
   ]
  },
  {
   "cell_type": "code",
   "execution_count": 148,
   "metadata": {},
   "outputs": [],
   "source": [
    "#Model construction\n",
    "\"\"\"\n",
    "Input Parameters\n",
    "------------------\n",
    "\n",
    "number of layers : Number of hidden Layers\n",
    "no_of_hidden_neurons : List Containing number of neurons in each hidden layer\n",
    "activation_function : Which activation function to be used in each layer\n",
    "\n",
    "Output\n",
    "--------\n",
    "An instance of the model\n",
    "\n",
    "\"\"\"\n",
    "def model_constructor(number_of_layers, no_of_hidden_neurons, activation_function) :\n",
    "    model = Sequential()\n",
    "    model.add(Dense(no_of_hidden_neurons[0], input_dim = NUM_PIXELS, activation = activation_function))\n",
    "    for i in range(1,number_of_layers) :\n",
    "        model.add(Dense(no_of_hidden_neurons[i], activation = activation_function))\n",
    "    model.add(Dense(NUM_CLASSES, activation='softmax'))\n",
    "    return model"
   ]
  },
  {
   "cell_type": "code",
   "execution_count": 146,
   "metadata": {},
   "outputs": [
    {
     "name": "stdout",
     "output_type": "stream",
     "text": [
      "456\n",
      "56\n"
     ]
    }
   ],
   "source": [
    "model = model_constructor(3,[784,456,56])"
   ]
  },
  {
   "cell_type": "code",
   "execution_count": 147,
   "metadata": {},
   "outputs": [
    {
     "name": "stdout",
     "output_type": "stream",
     "text": [
      "_________________________________________________________________\n",
      "Layer (type)                 Output Shape              Param #   \n",
      "=================================================================\n",
      "dense_34 (Dense)             (None, 784)               615440    \n",
      "_________________________________________________________________\n",
      "dense_35 (Dense)             (None, 456)               357960    \n",
      "_________________________________________________________________\n",
      "dense_36 (Dense)             (None, 56)                25592     \n",
      "_________________________________________________________________\n",
      "dense_37 (Dense)             (None, 10)                570       \n",
      "=================================================================\n",
      "Total params: 999,562\n",
      "Trainable params: 999,562\n",
      "Non-trainable params: 0\n",
      "_________________________________________________________________\n"
     ]
    }
   ],
   "source": [
    "model.summary()"
   ]
  },
  {
   "cell_type": "code",
   "execution_count": 129,
   "metadata": {},
   "outputs": [],
   "source": [
    "model.compile(optimizer='Adam', loss = 'categorical_crossentropy', metrics = ['accuracy'])"
   ]
  },
  {
   "cell_type": "code",
   "execution_count": 133,
   "metadata": {},
   "outputs": [
    {
     "name": "stdout",
     "output_type": "stream",
     "text": [
      "Train on 48000 samples, validate on 12000 samples\n",
      "Epoch 1/2\n",
      "48000/48000 [==============================] - 28s 583us/step - loss: 0.0481 - acc: 0.9844 - val_loss: 0.1388 - val_acc: 0.9653\n",
      "Epoch 2/2\n",
      "48000/48000 [==============================] - 29s 614us/step - loss: 0.0367 - acc: 0.9880 - val_loss: 0.1341 - val_acc: 0.9691\n"
     ]
    },
    {
     "data": {
      "text/plain": [
       "<keras.callbacks.History at 0x7faacc4dab10>"
      ]
     },
     "execution_count": 133,
     "metadata": {},
     "output_type": "execute_result"
    }
   ],
   "source": [
    "model.fit(x_train_normalised, y_train, batch_size = 32, epochs = 2, validation_data=(x_validation_normalised, y_validation))"
   ]
  },
  {
   "cell_type": "code",
   "execution_count": 134,
   "metadata": {},
   "outputs": [
    {
     "name": "stdout",
     "output_type": "stream",
     "text": [
      "10000/10000 [==============================] - 1s 108us/step\n"
     ]
    }
   ],
   "source": [
    "score = model.evaluate(x_test_normalised, y_test)"
   ]
  },
  {
   "cell_type": "code",
   "execution_count": 135,
   "metadata": {},
   "outputs": [
    {
     "data": {
      "text/plain": [
       "[0.1226119778562992, 0.96989999999999998]"
      ]
     },
     "execution_count": 135,
     "metadata": {},
     "output_type": "execute_result"
    }
   ],
   "source": [
    "score"
   ]
  },
  {
   "cell_type": "code",
   "execution_count": null,
   "metadata": {},
   "outputs": [],
   "source": []
  }
 ],
 "metadata": {
  "kernelspec": {
   "display_name": "Python 2",
   "language": "python",
   "name": "python2"
  },
  "language_info": {
   "codemirror_mode": {
    "name": "ipython",
    "version": 2
   },
   "file_extension": ".py",
   "mimetype": "text/x-python",
   "name": "python",
   "nbconvert_exporter": "python",
   "pygments_lexer": "ipython2",
   "version": "2.7.12"
  }
 },
 "nbformat": 4,
 "nbformat_minor": 2
}
